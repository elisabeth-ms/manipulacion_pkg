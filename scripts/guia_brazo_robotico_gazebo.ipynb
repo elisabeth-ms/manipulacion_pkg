{
 "cells": [
  {
   "attachments": {},
   "cell_type": "markdown",
   "metadata": {
    "editable": false,
    "rendered": true,
    "run_control": {
     "frozen": true
    },
    "slideshow": {
     "slide_type": "slide"
    },
    "tags": []
   },
   "source": [
    "# GUÍA BRAZO ROBÓTICO EN GAZEBO\n"
   ]
  },
  {
   "attachments": {},
   "cell_type": "markdown",
   "metadata": {
    "slideshow": {
     "slide_type": "slide"
    },
    "tags": []
   },
   "source": [
    "## Iniciando la simulacion de Gazebo\n",
    "\n",
    "Para simular brazo robótico UR10 junto con el gripper en Gazebo, debes seguir estos pasos:\n",
    "\n",
    "1. Abre una Nueva Terminal: Primero, necesitas abrir una nueva ventana de terminal en tu sistema (Ctrl + Alt + T).\n",
    "\n",
    "2. Ejecuta el Comando de Lanzamiento: En la terminal recién abierta, ejecuta el siguiente comando:\n"
   ]
  },
  {
   "attachments": {},
   "cell_type": "markdown",
   "metadata": {
    "slideshow": {
     "slide_type": ""
    },
    "tags": []
   },
   "source": [
    "``` shellscript\n",
    "user@pc:~$ roslaunch manipulacion_pkg  robot_gazebo.launch tipo_gripper:=jaco \\\n",
    "            objeto:=mustard_bottle\n",
    "\n",
    "```"
   ]
  },
  {
   "attachments": {},
   "cell_type": "markdown",
   "metadata": {},
   "source": [
    "## Ejemplo: Control de un Brazo Robótico en Gazebo\n",
    "\n",
    "En este ejemplo, exploraremos cómo leer las posiciones actuales de las articulaciones de un brazo robótico en Gazebo y cómo enviar comandos para mover el brazo a nuevas posiciones. Utilizaremos la clase `GazeboRobot`, que hereda de `Robot`, y proporciona funcionalidades específicas para interactuar con el brazo robótico en la simulación de Gazebo.\n",
    "\n",
    "1. **Inicializar el Nodo ROS**: Primero, inicializamos un nodo ROS. Este nodo nos facilitará la comunicación con el sistema ROS y permitirá el control del brazo robótico en la simulación de Gazebo.\n",
    "\n",
    "2. **Creación de una Instancia de GazeboRobot**: Se crea una instancia de `GazeboRobot`, especificando los nombres de las articulaciones del brazo robótico que queremos controlar. Esto nos permite interactuar específicamente con nuestro brazo robótico en Gazebo.\n",
    "\n",
    "3. **Lectura de Posiciones Actuales de las Articulaciones**: Utilizamos el método `obtener_posiciones_articulaciones` para leer las posiciones actuales de las articulaciones del brazo robótico. \n",
    "\n",
    "4. **Envío de Comando a una Posición articular deseada**:  Para mover el brazo robótico a una posición deseada, usamos el método `command_posicion_articulaciones`, especificando las posiciones deseadas para las articulaciones (`posicion_deseada`) y el tiempo desde que se envía el comando hasta alcanzar estas posiciones (`time_from_start`).\n",
    "\n",
    "5. **Envío de Comando de un path de Posiciones articulares**: Utilizamos el método `command_path_posicion_articulaciones` para definir una trayectoria de posiciones articulares. Aquí, `path` representa una lista de configuraciones articulares que el brazo debe alcanzar de manera secuencial. `time_between_points` indica el tiempo en segundos necesario para que el brazo se mueva de una configuración a la siguiente dentro de la trayectoria. Por último, `start_time` define el tiempo en segundos desde el envío del comando hasta que el brazo llega a la primera posición de la trayectoria.\n",
    "\n",
    "\n",
    "\n"
   ]
  },
  {
   "cell_type": "code",
   "execution_count": 1,
   "metadata": {},
   "outputs": [
    {
     "name": "stdout",
     "output_type": "stream",
     "text": [
      "Posiciones actuales de las articulaciones: [-5.390591650211718e-05, -0.9959713876864562, 0.0013524588952105177, -6.2775716006174935, 6.280250223759306, -0.00348421106685759]\n"
     ]
    },
    {
     "name": "stderr",
     "output_type": "stream",
     "text": [
      "Unknown tag \"scale\" in /robot[@name='ur10']/link[@name='hand_finger_11_link']/collision[1]\n",
      "Unknown tag \"hardwareInterface\" in /robot[@name='ur10']/transmission[@name='hand_knuckle_trans']/actuator[@name='hand_knuckle_effort_motor']\n",
      "Unknown tag \"hardwareInterface\" in /robot[@name='ur10']/transmission[@name='hand_finger_12_trans']/actuator[@name='hand_finger_12_effort_motor']\n",
      "Unknown tag \"hardwareInterface\" in /robot[@name='ur10']/transmission[@name='hand_finger_13_trans']/actuator[@name='hand_finger_13_effort_motor']\n",
      "Unknown tag \"hardwareInterface\" in /robot[@name='ur10']/transmission[@name='hand_finger_22_trans']/actuator[@name='hand_finger_22_effort_motor']\n",
      "Unknown tag \"hardwareInterface\" in /robot[@name='ur10']/transmission[@name='hand_finger_23_trans']/actuator[@name='hand_finger_23_effort_motor']\n",
      "Unknown tag \"hardwareInterface\" in /robot[@name='ur10']/transmission[@name='hand_thumb_2_trans']/actuator[@name='hand_thumb_2_effort_motor']\n",
      "Unknown tag \"hardwareInterface\" in /robot[@name='ur10']/transmission[@name='hand_thumb_3_trans']/actuator[@name='hand_thumb_3_effort_motor']\n"
     ]
    }
   ],
   "source": [
    "import rospy\n",
    "import manipulacion_lib  \n",
    "\n",
    "# 1. Inicializar el Nodo ROS\n",
    "if not rospy.get_node_uri():\n",
    "    rospy.init_node('robot_arm_controller', anonymous=True)\n",
    "\n",
    "# 2. Creación de una Instancia de `GazeboRobot`\n",
    "gazebo_robot = manipulacion_lib.GazeboRobot(nombres_articulaciones=[\n",
    "    'shoulder_pan_joint',\n",
    "    'shoulder_lift_joint',\n",
    "    'elbow_joint',\n",
    "    'wrist_1_joint',\n",
    "    'wrist_2_joint',\n",
    "    'wrist_3_joint'\n",
    "])\n",
    "\n",
    "# 3. Lectura de Posiciones Actuales de las Articulaciones\n",
    "posiciones_actuales = gazebo_robot.obtener_posiciones_articulaciones()\n",
    "print(\"Posiciones actuales de las articulaciones:\", posiciones_actuales)\n",
    "\n",
    "# 4. Envío de Comando a una Posición Específica\n",
    "posicion_deseada = [0.5, -1.0, 1.0, -1.0, 0.0, 1.5]\n",
    "# Define la posición deseada para las articulaciones y el tiempo para alcanzarla\n",
    "gazebo_robot.command_posicion_articulaciones(posicion_deseada,\n",
    "                                             time_from_start=2)\n"
   ]
  },
  {
   "cell_type": "code",
   "execution_count": 2,
   "metadata": {},
   "outputs": [
    {
     "name": "stdout",
     "output_type": "stream",
     "text": [
      "header: \n",
      "  seq: 0\n",
      "  stamp: \n",
      "    secs: 3516\n",
      "    nsecs: 699000000\n",
      "  frame_id: ''\n",
      "joint_names: \n",
      "  - shoulder_pan_joint\n",
      "  - shoulder_lift_joint\n",
      "  - elbow_joint\n",
      "  - wrist_1_joint\n",
      "  - wrist_2_joint\n",
      "  - wrist_3_joint\n",
      "points: \n",
      "  - \n",
      "    positions: [0.0, -0.8, 0.0, -0.3, 0.0, 0.5]\n",
      "    velocities: []\n",
      "    accelerations: []\n",
      "    effort: []\n",
      "    time_from_start: \n",
      "      secs: 2\n",
      "      nsecs:         0\n",
      "  - \n",
      "    positions: [0.0, -1.0, 1.0, -1.0, 0.0, 1.0]\n",
      "    velocities: []\n",
      "    accelerations: []\n",
      "    effort: []\n",
      "    time_from_start: \n",
      "      secs: 4\n",
      "      nsecs:         0\n",
      "  - \n",
      "    positions: [0.5, -0.5, 0.5, -0.5, 0.6, 0.5]\n",
      "    velocities: []\n",
      "    accelerations: []\n",
      "    effort: []\n",
      "    time_from_start: \n",
      "      secs: 6\n",
      "      nsecs:         0\n"
     ]
    }
   ],
   "source": [
    "# 5. Envío de Comando path the posiciones articulares\n",
    "path = [\n",
    "    [0.0, -0.8, 0.0, -0.3, 0.0, 0.5],\n",
    "    [0.0, -1.0, 1.0, -1.0, 0.0, 1.0],\n",
    "    [0.5, -0.5, 0.5, -0.5, 0.6, 0.5]\n",
    "]\n",
    "gazebo_robot.command_path_posicion_articulaciones(path, time_between_points=2,\n",
    "                                                  start_time=2)\n"
   ]
  },
  {
   "attachments": {},
   "cell_type": "markdown",
   "metadata": {},
   "source": [
    "## Detección de colisiones del brazo robótico\n",
    "\n",
    "El detector de colisiones debe ser capaz de identificar tanto auto-colisiones del brazo robótico (colisiones entre las distintas partes del brazo y el gripper) como colisiones con obstáculos definidos en el entorno. Consideraremos el gripper como un prisma rectangular para fines de detección de colisiones, usando las dimensiones específicas proporcionadas.\n",
    "\n",
    "1. **Inicializar el Nodo ROS**: Comenzamos inicializando un nodo ROS. Este nodo facilitará la comunicación con otras partes del sistema ROS.\n",
    "\n",
    "2. **Definición de Obstáculos**: A continuación, definimos los obstáculos presentes en el entorno que podrían interactuar con el brazo robótico. Cada obstáculo se define con un tipo (por ejemplo, 'cubo'), una pose inicial, dimensiones y un nombre único.\n",
    "\n",
    "\n",
    "3. **Creación de una Instancia del Detector de Colisiones**: Instanciamos el `DetectorColisiones`, especificando si se incluirá el brazo robótico y/o el gripper, junto con los obstáculos definidos. \n",
    "\n",
    "\n",
    "4. **Verificación de Auto-colisiones y Colisiones con Obstáculos**: Utilizamos el método `hay_colision` del detector de colisiones para determinar si, dada una configuración específica de las articulaciones del brazo, existe alguna colisión con los obstáculos definidos o auto-colisiones.\n",
    "\n",
    "\n"
   ]
  },
  {
   "cell_type": "code",
   "execution_count": 10,
   "metadata": {},
   "outputs": [
    {
     "name": "stdout",
     "output_type": "stream",
     "text": [
      "usando gripper\n",
      "obstaculo\n",
      "[0. 0. 0. 0. 0. 0. 1. 0. 0. 0. 0. 0. 0. 0. 0. 0. 0. 0. 0. 1. 0. 0. 0. 0.\n",
      " 0. 0. 1. 0. 0. 0. 0. 0. 0. 1.]\n",
      "num collision pairs - initial: 52\n",
      "base_inertia:  1\n",
      "shoulder:  2\n",
      "upper:  3\n",
      "forearm:  4\n",
      "wrist1:  5\n",
      "wrist2:  6\n",
      "wrist3:  7\n",
      "gripper:  8\n",
      "suelo:  9\n",
      "obstaculo :  10\n",
      "¿Hay colisión?: No\n",
      "¿Hay colisión?: Sí\n"
     ]
    }
   ],
   "source": [
    "import rospy\n",
    "import manipulacion_lib\n",
    "\n",
    "# 1. Inicializar el Nodo ROS\n",
    "# Asegúrate de que el nodo solo se inicialice si aún no existe\n",
    "if not rospy.get_node_uri():\n",
    "    rospy.init_node('collision_detection', anonymous=True)\n",
    "\n",
    "# 2. Definición de Obstáculos\n",
    "# Crea una lista para almacenar los obstáculos definidos\n",
    "obstaculos = []\n",
    "\n",
    "# Crea y añade un obstáculo específico a la lista\n",
    "# Asume que manipulacion_lib.Obstaculo es una clase que permite definir\n",
    "# obstáculos con tipo, pose, dimensiones y nombre\n",
    "obstaculo = manipulacion_lib.Obstaculo('cubo', [0.7, 0, 0, 1, 0, 0, 0], \n",
    "                                       [0.8, 0.3, 0.7], 'obstaculo')\n",
    "obstaculos.append(obstaculo)\n",
    "obstaculos = []\n",
    "\n",
    "# 3. Creación de una Instancia del Detector de Colisiones\n",
    "# Inicializa el detector de colisiones con la configuración deseada, incluyendo \n",
    "# el brazo robótico, el gripper y los obstáculos\n",
    "detectorColisiones = manipulacion_lib.DetectorColisiones(\n",
    "    usa_brazo_robotico=True,  # Indica si el brazo robótico se incluye en la \n",
    "                              # detección de colisiones\n",
    "    usa_gripper=True,  # Indica si el gripper se incluye \n",
    "                       # en la detección de colisiones\n",
    "    gripper_dimensions=[0.1, 0.1, 0.1],  # Especifica las dimensiones del \n",
    "                                        # gripper como un prisma rectangular\n",
    "    obstaculos=obstaculos  # Lista de obstáculos definidos previamente\n",
    ")\n",
    "\n",
    "# 4. Verificación de Auto-colisiones y Colisiones con Obstáculos\n",
    "# Define una configuración de ejemplo para las articulaciones del brazo robótico\n",
    "configuracion_articulaciones = [0, 0, 0, 0, 0, 0]\n",
    "\n",
    "# Utiliza el método hay_colision para verificar si la configuración actual del\n",
    "# brazo robótico resulta en alguna colisión\n",
    "hay_colision = detectorColisiones.hay_colision(configuracion_articulaciones)\n",
    "\n",
    "# Imprime el resultado de la detección de colisiones\n",
    "print(f\"¿Hay colisión?: {'Sí' if hay_colision else 'No'}\")\n",
    "\n",
    "configuracion_articulaciones = [0, 0.05, 0, 0, 0, 0]\n",
    "# Utiliza el método hay_colision para verificar si la configuración actual del brazo\n",
    "# robótico resulta en alguna colisión\n",
    "hay_colision = detectorColisiones.hay_colision(configuracion_articulaciones)\n",
    "\n",
    "# Imprime el resultado de la detección de colisiones\n",
    "print(f\"¿Hay colisión?: {'Sí' if hay_colision else 'No'}\")\n",
    "\n"
   ]
  },
  {
   "attachments": {},
   "cell_type": "markdown",
   "metadata": {},
   "source": [
    "# Transición de FakeRobot a GazeboRobot para Cálculos Cinemáticos\n",
    "\n",
    "Al pasar de usar `FakeRobot` con RViz a `GazeboRobot` en Gazebo, el proceso para calcular la cinemática del brazo robótico es el mismo. Solo necesitas cambiar la instancia de `FakeRobot` por `GazeboRobot`. El resto del proceso y los métodos utilizados para calcular la cinemática son exactamente iguales.\n",
    "\n"
   ]
  },
  {
   "cell_type": "code",
   "execution_count": 5,
   "metadata": {},
   "outputs": [
    {
     "name": "stderr",
     "output_type": "stream",
     "text": [
      "Unknown tag \"scale\" in /robot[@name='ur10']/link[@name='hand_finger_11_link']/collision[1]\n",
      "Unknown tag \"hardwareInterface\" in /robot[@name='ur10']/transmission[@name='hand_knuckle_trans']/actuator[@name='hand_knuckle_effort_motor']\n",
      "Unknown tag \"hardwareInterface\" in /robot[@name='ur10']/transmission[@name='hand_finger_12_trans']/actuator[@name='hand_finger_12_effort_motor']\n",
      "Unknown tag \"hardwareInterface\" in /robot[@name='ur10']/transmission[@name='hand_finger_13_trans']/actuator[@name='hand_finger_13_effort_motor']\n",
      "Unknown tag \"hardwareInterface\" in /robot[@name='ur10']/transmission[@name='hand_finger_22_trans']/actuator[@name='hand_finger_22_effort_motor']\n",
      "Unknown tag \"hardwareInterface\" in /robot[@name='ur10']/transmission[@name='hand_finger_23_trans']/actuator[@name='hand_finger_23_effort_motor']\n",
      "Unknown tag \"hardwareInterface\" in /robot[@name='ur10']/transmission[@name='hand_thumb_2_trans']/actuator[@name='hand_thumb_2_effort_motor']\n",
      "Unknown tag \"hardwareInterface\" in /robot[@name='ur10']/transmission[@name='hand_thumb_3_trans']/actuator[@name='hand_thumb_3_effort_motor']\n",
      "Unknown tag \"scale\" in /robot[@name='ur10']/link[@name='hand_finger_11_link']/collision[1]\n",
      "Unknown tag \"hardwareInterface\" in /robot[@name='ur10']/transmission[@name='hand_knuckle_trans']/actuator[@name='hand_knuckle_effort_motor']\n",
      "Unknown tag \"hardwareInterface\" in /robot[@name='ur10']/transmission[@name='hand_finger_12_trans']/actuator[@name='hand_finger_12_effort_motor']\n",
      "Unknown tag \"hardwareInterface\" in /robot[@name='ur10']/transmission[@name='hand_finger_13_trans']/actuator[@name='hand_finger_13_effort_motor']\n",
      "Unknown tag \"hardwareInterface\" in /robot[@name='ur10']/transmission[@name='hand_finger_22_trans']/actuator[@name='hand_finger_22_effort_motor']\n",
      "Unknown tag \"hardwareInterface\" in /robot[@name='ur10']/transmission[@name='hand_finger_23_trans']/actuator[@name='hand_finger_23_effort_motor']\n",
      "Unknown tag \"hardwareInterface\" in /robot[@name='ur10']/transmission[@name='hand_thumb_2_trans']/actuator[@name='hand_thumb_2_effort_motor']\n",
      "Unknown tag \"hardwareInterface\" in /robot[@name='ur10']/transmission[@name='hand_thumb_3_trans']/actuator[@name='hand_thumb_3_effort_motor']\n"
     ]
    }
   ],
   "source": [
    "import manipulacion_lib\n",
    "\n",
    "# Cambia FakeRobot por GazeboRobot para simulaciones en Gazebo\n",
    "ur10 = manipulacion_lib.GazeboRobot()\n",
    "\n",
    "# El uso de la cinemática se mantiene igual\n",
    "kin = manipulacion_lib.Cinematica(robot=ur10, frame_base='base_link', \n",
    "                                  frame_final='tool0')"
   ]
  },
  {
   "attachments": {},
   "cell_type": "markdown",
   "metadata": {},
   "source": [
    "# Transición de SimulacionGripperFlotante a SimulacionGripper para abrir y cerrar el gripper \n",
    "\n",
    "Al pasar de usar `SimulacionGripperFlotante` con la simulación del gripper flotante en gazebo a `SimulacionGripper` para usar el gripper con el brazo robótico, el proceso para abrir y cerra el gripper es el mismo. Solo necesitas cambiar la instancia de `SimulacionGripperFlotante` por `SimulacionGripper`. \n"
   ]
  },
  {
   "cell_type": "code",
   "execution_count": 3,
   "metadata": {},
   "outputs": [
    {
     "name": "stdout",
     "output_type": "stream",
     "text": [
      "Gripper posicion articulaciones:  [0.0, -0.5, -0.5, -0.5, -0.5, -0.5, -0.5]\n",
      "Gripper posicion articulaciones:  [0, 0, 0, 0, 0, 0, 0]\n"
     ]
    }
   ],
   "source": [
    "simulacion_gripper = manipulacion_lib.SimulacionGripper(nombre_gripper_gazebo=\"gripper\")\n",
    "# Configurar el gripper basado en el archivo YAML específico para su tipo.\n",
    "# Esto incluye cargar las configuraciones iniciales como nombres de \n",
    "# articulaciones y posiciones predeterminadas.\n",
    "simulacion_gripper.configurar_gripper()\n",
    "\n",
    "# Abrir completamente el gripper antes de intentar cualquier operación \n",
    "# de agarre.\n",
    "# Es una práctica común asegurarse de que el gripper no esté restringido \n",
    "# o en una posición que podría interferir con el objeto a agarrar.\n",
    "simulacion_gripper.abrir_gripper()\n",
    "\n",
    "# Pequeña pausa para asegurar que la acción de abrir se ha completado.\n",
    "rospy.sleep(1)\n",
    "\n",
    "# Obtener el tipo de gripper actual para aplicar la configuración \n",
    "# de posiciones de articulaciones correcta.\n",
    "tipo_gripper = simulacion_gripper.get_tipo_gripper()\n",
    "\n",
    "# Basado en el tipo de gripper, se definen las posiciones \n",
    "# específicas de las articulaciones.\n",
    "# Estas posiciones deben ser determinadas experimentalmente o \n",
    "# calculadas para lograr el agarre deseado.\n",
    "if tipo_gripper == 'jaco': # Posiciones para el gripper Jaco.\n",
    "  posicion_articulaciones = [-0.6,-0.6,-0.6]  \n",
    "elif tipo_gripper == 'schunk': # Posiciones para el gripper Schunk.\n",
    "  posicion_articulaciones = [0, 0, 0, 0, 0, 0, 0]  \n",
    "elif tipo_gripper == 'robotiq':  # Posiciones para el gripper Robotiq.\n",
    "  posicion_articulaciones = [0.4, 0.4, 0.4, 0, 0.4, 0.4, 0.4, 0, 0.4, 0.4, 0.4] \n",
    "\n",
    "# Aplicar las posiciones definidas a las articulaciones del gripper.\n",
    "# Este paso es crucial para controlar el estado del gripper y realizar agarres \n",
    "# efectivos en la simulación.\n",
    "simulacion_gripper.set_posicion_articulaciones(posicion_articulaciones)"
   ]
  }
 ],
 "metadata": {
  "kernelspec": {
   "display_name": "Python 3 (ipykernel)",
   "language": "python",
   "name": "python3"
  },
  "language_info": {
   "codemirror_mode": {
    "name": "ipython",
    "version": 3
   },
   "file_extension": ".py",
   "mimetype": "text/x-python",
   "name": "python",
   "nbconvert_exporter": "python",
   "pygments_lexer": "ipython3",
   "version": "3.8.10"
  }
 },
 "nbformat": 4,
 "nbformat_minor": 4
}
