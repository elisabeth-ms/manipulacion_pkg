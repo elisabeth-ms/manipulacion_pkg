{
 "cells": [
  {
   "attachments": {},
   "cell_type": "markdown",
   "metadata": {},
   "source": [
    "# GUÍA GRASPIT!\n",
    "\n",
    "GraspIt is a versatile tool for simulating and analyzing robotic grasping. It allows users to load different grippers and objects, compute grasp poses, and evaluate the quality of these grasps.\n",
    "GraspIt es una herramienta versátil para simular y analizar el agarre robótico. Permite cargar diferentes grippers y objetos, calcular poses de agarre y evaluar la calidad de estos agarres.\n",
    "\n",
    "## Iniciando GraspIt!\n",
    "Para iniciar GraspIt, abre una terminal (Ctrl + Alt + T) y ejecuta el siguiente comando:\n",
    "\n",
    "``` shellscript\n",
    "user@pc:~$ roslaunch graspit_interface graspit_interface.launch\n",
    "\n",
    "```\n",
    "![GraspIt!](../images/graspit.png)\n",
    "\n"
   ]
  },
  {
   "attachments": {},
   "cell_type": "markdown",
   "metadata": {},
   "source": [
    "## Configurando GraspIt Commander\n",
    "En esta sección, inicializaremos el GraspIt Commander y prepararemos el entorno para las simulaciones de agarre. Sigue estos pasos:\n",
    "\n",
    "1. **Importar Librerías**: Comenzamos importando las librerías necesarias. `graspit_commander` es esencial para interactuar con GraspIt. `rospkg` y `rospy` se utilizan para las funcionalidades de ROS, y `geometry_msgs.msg` es para definir poses.\n",
    "\n",
    "2. **Obtener la ruta de `manipulacion_pkg`**. \n",
    "\n",
    "3. **Inicializar nodo de ROS**: Inicializa un nodo ROS para el GraspIt Commander. Este paso es esencial para habilitar la comunicación basada en ROS.\n",
    "\n",
    "4. **Limpiar el Mundo de GraspIt**: Esto se hace utilizando el método `clearWorld`.\n",
    "\n"
   ]
  },
  {
   "cell_type": "code",
   "execution_count": 8,
   "metadata": {},
   "outputs": [],
   "source": [
    "# Importar las librarias\n",
    "from graspit_commander import GraspitCommander\n",
    "import rospkg\n",
    "import rospy\n",
    "from geometry_msgs.msg import Pose\n",
    "\n",
    "\n",
    "# Obtener la ruta del paquete 'manipulacion_pkg'\n",
    "# Function: get_path\n",
    "# Parameters: package name (string)\n",
    "# Return: path (string)\n",
    "\n",
    "rospack = rospkg.RosPack()\n",
    "package_path = rospack.get_path('manipulacion_pkg')\n",
    "\n",
    "# Inicializar el nodo\n",
    "if not rospy.get_node_uri():\n",
    "    rospy.init_node('graspit_commander', anonymous=True, log_level=rospy.WARN)\n",
    "\n",
    "# Limpiar el mundo actual de GraspIt para un nuevo comienzo\n",
    "# Function: clearWorld\n",
    "# Parameters: None\n",
    "# Return: None\n",
    "GraspitCommander.clearWorld()\n"
   ]
  },
  {
   "attachments": {},
   "cell_type": "markdown",
   "metadata": {},
   "source": [
    "## Importar el Gripper en GraspIt!\n",
    "\n",
    "Después de configurar el GraspIt Commander, el siguiente paso es importar la pinza al entorno de GraspIt. Sigue estos pasos:\n",
    "\n",
    "1. **Define el nombre del gripper**: Especifica el nombre de la gripper (`gripper_name`) que te ha sido asignado para la realización de las prácticas. En este ejemplo, utilizaremos la pinza `RobotIQ`.\n",
    "\n",
    "2. **Define la pose de la gripper**: Define la pose inicial de la pinza. La pose incluye la posición y la orientación.\n",
    "\n",
    "3. **Importa el gripper en GraspIt!: Utiliza la función `importRobot` de GraspitCommander para importar el gripper especificado al entorno de GraspIt!. La función utiliza el nombre del gripper y su pose inicial como argumentos.\n"
   ]
  },
  {
   "cell_type": "code",
   "execution_count": 9,
   "metadata": {},
   "outputs": [
    {
     "name": "stdout",
     "output_type": "stream",
     "text": [
      "/manipulacion_ws/src/manipulacion_pkg/graspit_grippers/schunk/schunk.xml\n"
     ]
    }
   ],
   "source": [
    "# Define el nombre del gripper a importar\n",
    "gripper_name = 'schunk' \n",
    "\n",
    "gripper_path = package_path + '/graspit_grippers/' + gripper_name + '/'+gripper_name+'.xml'\n",
    "\n",
    "print(gripper_path)\n",
    "# Define la pose inicial del gripper\n",
    "poseHand = Pose()\n",
    "poseHand.position.z = 0.2\n",
    "poseHand.position.x = 0.1\n",
    "poseHand.position.y = 0.0\n",
    "poseHand.orientation.x = 0.0\n",
    "poseHand.orientation.y = 0.0\n",
    "poseHand.orientation.z = 0.0\n",
    "poseHand.orientation.w = 1\n",
    "\n",
    "# Importa el gripper a graspit!\n",
    "# Function: importRobot\n",
    "# Parameters: gripper_name (string), poseHand (Pose object)\n",
    "# Return: None\n",
    "GraspitCommander.importRobot(gripper_path, poseHand)"
   ]
  },
  {
   "attachments": {},
   "cell_type": "markdown",
   "metadata": {},
   "source": [
    "## Importar un Objeto en GraspIt!\n",
    "\n",
    "En esta sección del jupyter notebook, vamos a pasar por el proceso de importar un objeto al entorno de GraspIt!.\n",
    "\n",
    "\n",
    "1. **Establecer el nombre del objeto**:\n",
    "    graspable_object_name = 'mustard_bottle'\n",
    "    Primero, especificamos el nombre del objeto que queremos importar. En este caso, es una 'mustard_bottle'. Este nombre se utilizará para localizar el archivo mesh correspondiente al objeto.\n",
    "\n",
    "2. **Construir la ruta al archivo mesh del objeto**:\n",
    "  Construimos la ruta de archivo del objeto. Esta ruta es una combinación de la ruta del paquete, el directorio donde se almacenan los modelos de objetos, y el archivo XML específico del objeto. Este archivo XML contiene los datos del modelo 3D necesarios para la simulación.\n",
    "\n",
    "3. **Inicializar la Pose del Objeto**:\n",
    "  Inicializamos la pose del objeto. La `Pose` aquí se utiliza para definir la posición y orientación iniciales del objeto en el mundo de GraspIt.\n",
    "\n",
    "4. **Importar el Objeto en GraspIt**:\n",
    "  Finalmente, usamos la función `importGraspableBody` de `GraspitCommander` para importar el objeto en GraspIt!. Esta función toma la ruta al archivo del objeto y su pose inicial como parámetros.\n",
    "\n",
    "**¡IMPORTANTE!**: Presionar el icono de ojo en la interfaz de GraspIt! centrará la vista en la pinza y el objeto que has adjuntado.\n",
    "\n",
    "<div style=\"text-align: center;\">\n",
    "  <img src=\"../images/center-view.png\" alt=\"center-view\" width=\"100\"/>\n",
    "</div>\n",
    "\n",
    "**GRIPPER Y OBJECTO EN GRASPIT!**\n",
    "<div style=\"text-align: center;\">\n",
    "  <img src=\"../images/gripper_graspable_object.png\" alt=\"gripper_graspable_object\" width=\"800\"/>\n",
    "</div>\n"
   ]
  },
  {
   "cell_type": "code",
   "execution_count": 10,
   "metadata": {},
   "outputs": [],
   "source": [
    "# Establecer el nombre del objeto agarrable a importar\n",
    "graspable_object_name = 'construction_cone'\n",
    "\n",
    "# Construir la ruta al archivo del objeto\n",
    "# La ruta incluye la ruta del paquete, el directorio del modelo del objeto y el archivo XML del objeto\n",
    "graspable_object_path = package_path + '/objects_models/' + graspable_object_name +'/meshes/'+graspable_object_name +'.xml'\n",
    "\n",
    "\n",
    "# Inicializar la pose para el objeto agarrable (¡¡NO MODIFICAR!!)\n",
    "graspable_object_pose = Pose()\n",
    "graspable_object_pose.position.x = 0.0\n",
    "graspable_object_pose.position.y = 0.0\n",
    "graspable_object_pose.position.z = 0.0\n",
    "graspable_object_pose.orientation.x = 0.0\n",
    "graspable_object_pose.orientation.y = 0.0\n",
    "graspable_object_pose.orientation.z = 0.0\n",
    "graspable_object_pose.orientation.w = 1.0\n",
    "\n",
    "\n",
    "# Importar el objeto especificado en GraspIt\n",
    "# Function: importGraspableBody\n",
    "# Parameters: graspable_object_path (string), pose (Pose object)\n",
    "# Return: None\n",
    "GraspitCommander.importGraspableBody(graspable_object_path, pose=graspable_object_pose)"
   ]
  },
  {
   "attachments": {},
   "cell_type": "markdown",
   "metadata": {},
   "source": [
    "## Importar un obstáculo (superficie plana) en GraspIt!\n",
    "\n",
    "Dado que nuestros objetos estarán situados sobre una superficie plana, es esencial representar esta\n",
    "condición en nuestras simulaciones de GraspIt. Es crucial entender que la posición de esta superficie\n",
    "está definida con respecto al sistema de referencia del objeto, lo que significa que **los valores \n",
    "proporcionados para su posición no deben ser modificados.**\n",
    "\n",
    "1. **Importar la superficie en GraspIt**:\n",
    "  Finalmente, usamos la función `importObstacle` de `GraspitCommander` para importar el objeto en GraspIt!. Esta función toma el nombre del obstáculo y su pose como parámetros.\n"
   ]
  },
  {
   "cell_type": "code",
   "execution_count": 11,
   "metadata": {},
   "outputs": [],
   "source": [
    "from manipulacion_lib import extraer_posicion_superficie_plana_de_yaml\n",
    "obstacle_pose = Pose()\n",
    "# Utilizar los valores proporcionados sin modificaciones\n",
    "position = extraer_posicion_superficie_plana_de_yaml(package_path+'/objects_models/obstacle_surface_position.yaml', graspable_object_name)\n",
    "obstacle_pose.position.x = position[0]\n",
    "obstacle_pose.position.y = position[1]\n",
    "obstacle_pose.position.z = position[2]\n",
    "obstacle_pose.orientation.x = 0.0\n",
    "obstacle_pose.orientation.y = 0.0\n",
    "obstacle_pose.orientation.z = 0.0\n",
    "obstacle_pose.orientation.w = 1.0\n",
    "GraspitCommander.importObstacle(package_path+'/objects_models/floor/floor.xml', pose=obstacle_pose)"
   ]
  },
  {
   "attachments": {},
   "cell_type": "markdown",
   "metadata": {},
   "source": [
    "## Planificación de agarres en GraspIt!\n",
    "\n",
    "Después de configurar el entorno de GraspIt con la pinza y el objeto elegidos, el siguiente paso es planificar agarres. Esto implica usar las capacidades de planificación de agarres de GraspIt para generar un conjunto de agarres potenciales para el objeto. Estos son los pasos a seguir:\n",
    "\n",
    "1. **Define el planificador de agarre**: Primero configuramos el planificador que GraspIt! usará para la planificación de agarres. `Planner.SIM_ANN` se refiere al planificador de Simulated Annealing, una elección común para la planificación de agarres. Este planificador utiliza un algoritmo de búsqueda heurística para explorar el espacio de agarres posibles.\n",
    "\n",
    "2. **Establecer el Tipo de Energía de Búsqueda**: El parámetro de energía de búsqueda define la métrica utilizada para evaluar la calidad de los agarres. En este caso, se utiliza `CONTACT_ENERGY`, que se centra en los puntos de contacto entre el gripper y el objeto, con el objetivo de minimizar la energía potencial en estos puntos para un agarre estable.\n",
    "\n",
    "3. **Ejecutar la Planificación de Agarres**: La función `planGrasps` de GraspitCommander se llama con tres parámetros: `max_steps`, `search_energy` y `planner`.\n",
    " - `max_steps`=31000  especifica el número máximo de iteraciones que el planificador ejecutará. Un número más alto permite una búsqueda más exhaustiva pero tarda más.\n",
    " - `search_energy` se establece en el `CONTACT_ENERGY` previamente definido.\n",
    " - `planner` es el objeto planificador que definimos anteriormente.\n",
    "4. **Obtener los agarres planificados como una lista**: \n",
    "  Cada agarre en esta lista es una forma potencial en que la pinza puede sostener el objeto. Es importante notar que GraspIt típicamente devuelve un máximo de 20 poses de agarre. Cada pose de agarre contiene los siguientes datos:\n",
    "  - Graspable Body ID: El ID del objeto que se puede agarrar.\n",
    "  - Pose of Gripper: La pose del agarre del gripper relativa al objeto cuando se aplica el agarre, incluyendo posición y orientación.\n",
    "  - DOFs (Degree of Freedoms): Los ángulos de las articulaciones del gripper cuando se aplica el agarre.\n",
    "  - Epsilon Quality: Una métrica que evalúa la estabilidad del agarre.\n",
    "  - Volume Quality: Esta métrica evalúa el volumen encerrado por los dedos y la palma de la pinza durante el agarre.\n",
    "  - Approach Direction: Indica la dirección desde la cual la pinza se acerca al objeto para realizar el agarre."
   ]
  },
  {
   "cell_type": "code",
   "execution_count": 5,
   "metadata": {},
   "outputs": [],
   "source": [
    "from graspit_interface.msg import Planner\n",
    "\n",
    "\n",
    "# Inicializar el planificador usando el método Simulated Annealing\n",
    "\n",
    "planner = Planner(Planner.SIM_ANN) \n",
    "\n",
    "# Definir el tipo de energía que se utilizará en la búsqueda de agarres\n",
    "search_energy = \"CONTACT_ENERGY\" #\n",
    "\n",
    "# Planificar agarres para el objeto y el gripper importados\n",
    "# Function: planGrasps\n",
    "# Parameters: max_steps (int), search_energy (string), planner (Planner object)\n",
    "# Return: results (GraspPlanningResults object)\n",
    "results = GraspitCommander.planGrasps(max_steps=32000, search_energy=\"CONTACT_ENERGY\", planner=planner)\n",
    "\n",
    "# Obtener la lista de agarres planificados de los resultados\n",
    "grasps = results.grasps  # Esta lista contiene los agarres potenciales generados por GraspIt\n",
    "# Nota: GraspIt típicamente devuelve un máximo de 20 poses de agarre"
   ]
  },
  {
   "cell_type": "code",
   "execution_count": 6,
   "metadata": {},
   "outputs": [
    {
     "name": "stdout",
     "output_type": "stream",
     "text": [
      "Graspable Body ID: 0\n",
      "Pose of Gripper:\n",
      "  Position: x = 0.0008725146575805951 y = 0.10570017286605278 z = 0.07246205017275625\n",
      "  Orientation: x = -0.14447596196564877 y = 0.04582828698426261 z = 0.6971457067894207 w = 0.7007241454604427\n",
      "DOFs (Joint Angles of the Gripper): (0.6010191660026107, 0.0, 0.3877308339973899, -0.1341567293378678, 0.6310191660026108, 0.0, 0.4077308339973899, 0.1341567293378678, 0.6447691660026108, 0.0, 0.5702308339973899)\n",
      "Epsilon Quality (Stability): -1.0\n",
      "Volume Quality (Enclosed Volume): 0.0\n"
     ]
    }
   ],
   "source": [
    "# Imprimir el primer agarre y verificar los datos que contiene.\n",
    "# Asegúrate de que hay al menos un agarre en la lista antes de intentar acceder a él\n",
    "if grasps:\n",
    "    first_grasp = grasps[0]  # Accediendo al primer agarre de la lista\n",
    "\n",
    "    # Imprimir los detalles del primer agarre\n",
    "    print(\"Graspable Body ID:\", first_grasp.graspable_body_id)\n",
    "    print(\"Pose of Gripper:\")\n",
    "    print(\"  Position:\", \"x =\", first_grasp.pose.position.x, \"y =\", first_grasp.pose.position.y, \"z =\", first_grasp.pose.position.z)\n",
    "    print(\"  Orientation:\", \"x =\", first_grasp.pose.orientation.x, \"y =\", first_grasp.pose.orientation.y, \"z =\", first_grasp.pose.orientation.z, \"w =\", first_grasp.pose.orientation.w)\n",
    "    print(\"DOFs (Joint Angles of the Gripper):\", first_grasp.dofs)\n",
    "    print(\"Epsilon Quality (Stability):\", first_grasp.epsilon_quality)\n",
    "    print(\"Volume Quality (Enclosed Volume):\", first_grasp.volume_quality)\n",
    "\n",
    "else:\n",
    "    print(\"No se encontraron poses de agarre.\")"
   ]
  },
  {
   "attachments": {},
   "cell_type": "markdown",
   "metadata": {},
   "source": [
    "## Evaluando la Calidad del Agarre en GraspIt!\n",
    "\n",
    "Necesitamos evaluar estos agarres basándonos en sus métricas de calidad:\n",
    "\n",
    "1. Epsilon Quality: Esta métrica evalúa la robustez de un agarre. Un valor de épsilon más alto indica un agarre más fuerte y estable. Se busca obtener valores positivos.\n",
    "\n",
    "2. Volume Quality: Refleja la eficiencia espacial del agarre. Valores más altos sugieren un agarre más envolvente y seguro.\n",
    "\n",
    "**Criterios de Selección**:\n",
    "  - Positive Epsilon Quality: Indica un agarre fuerte y fiable.\n",
    "  - High Volume Quality: Sugiere un agarre que rodea efectivamente el objeto.\n",
    "  - Negative or Zero Epsilon Quality: Estos agarres son débiles o límite y generalmente deben evitarse.\n",
    "\n",
    "*Elige agarres con la mejor combinación de alta calidad de épsilon y volumen para tareas de manipulación exitosas.*"
   ]
  },
  {
   "attachments": {},
   "cell_type": "markdown",
   "metadata": {},
   "source": [
    "# Obtención de Poses de Agarre Estables\n",
    "\n",
    "Si los intentos iniciales no proporcionan suficientes poses de agarre estables, puede ser necesario ejecutar el planificador múltiples veces. Aquí te mostramos cómo puedes hacerlo:\n",
    "\n",
    "\n",
    "1. **Inicializa una lista vacía para los mejores agarres**: Comienza con una lista vacía para almacenar las mejores poses de agarre.\n",
    "\n",
    "2. **Ejecuta el planificador de agarres en un bucle**: Utiliza un bucle while para seguir ejecutando el planificador de agarres hasta que recolectes un número suficiente de agarres estables (por ejemplo, 30).\n",
    "\n",
    "3. **Planificar agarres**: Dentro del bucle, llama a `planGrasps` con un número especificado de pasos y tipo de energía.\n",
    "\n",
    "4. **Filtrar y almacenar agarres estables**: Itera a través de los agarres resultantes. Si la epsilon de un agarre es mayor a 0.0, se considera estable y se añade a la lista de mejores agarres.\n",
    "\n",
    "5. **Repetir hasta obtener suficientes agarres**: Continue this process until you have collected the desired number of stable grasps.\n",
    "\n",
    "Este método asegura una búsqueda más exhaustiva de agarres estables mediante la ejecución repetida del planificador y la evaluación de la calidad de cada agarre.\n",
    "\n",
    "**¡Adición Importante!**: *Queda a disposición del alumno la ordenación de los mejores agarres en la lista final según las métricas para probar en las simulaciones siguientes en Gazebo, priorizando primero el mejor de los agarres.*"
   ]
  },
  {
   "cell_type": "code",
   "execution_count": 7,
   "metadata": {},
   "outputs": [
    {
     "name": "stdout",
     "output_type": "stream",
     "text": [
      "Numero de mejores agarres:  1\n",
      "Numero de mejores agarres:  2\n",
      "Numero de mejores agarres:  3\n",
      "Numero de mejores agarres:  4\n",
      "Numero de mejores agarres:  5\n",
      "Numero de mejores agarres:  6\n",
      "Numero de mejores agarres:  7\n",
      "Numero de mejores agarres:  8\n",
      "Numero de mejores agarres:  9\n",
      "Numero de mejores agarres:  10\n",
      "Numero de mejores agarres:  11\n",
      "Numero de mejores agarres:  12\n",
      "Numero de mejores agarres:  13\n",
      "Numero de mejores agarres:  14\n",
      "Numero de mejores agarres:  15\n"
     ]
    }
   ],
   "source": [
    "from graspit_interface.msg import Planner\n",
    "from graspit_commander import GraspitCommander\n",
    "\n",
    "# Inicializar el planificador con el método Simulated Annealing (SIM_ANN)\n",
    "planner = Planner(Planner.SIM_ANN)\n",
    "# Inicializar una lista vacía para almacenar los mejores agarres\n",
    "best_grasps = []\n",
    "# Definir el número mínimo de agarres estables deseado\n",
    "min_number_of_grasps = 10\n",
    "# Utilizar un bucle while para seguir planificando agarres hasta alcanzar el mínimo deseado\n",
    "while len(best_grasps)<min_number_of_grasps:\n",
    "    # Planificar agarres con GraspitCommander, especificando el número máximo de pasos y\n",
    "    # el tipo de energía de búsqueda\n",
    "    results = GraspitCommander.planGrasps(max_steps=31000, search_energy=\"CONTACT_ENERGY\", planner=planner)\n",
    "    # Iterar a través de los agarres resultantes\n",
    "    for grasp in results.grasps:\n",
    "        # Verificar si la calidad épsilon del agarre es mayor a 0.0 (indicativo de un agarre estable)\n",
    "        if grasp.epsilon_quality > 0.00:\n",
    "            # Añadir el agarre a la lista de mejores agarres si cumple con el criterio de estabilidad\n",
    "            best_grasps.append(grasp)\n",
    "            # Imprimir el número actual de mejores agarres recolectados para seguimiento\n",
    "            print(\"Numero de mejores agarres: \", len(best_grasps))\n"
   ]
  },
  {
   "attachments": {},
   "cell_type": "markdown",
   "metadata": {},
   "source": [
    "# Guardar poses de agarres en un archivo YAML\n",
    "\n",
    "En esta sección, guardaremos las posiciones de agarre que hemos identificado y evaluado como las mejores en un archivo YAML. Este archivo nos permitirá almacenar y utilizar fácilmente estas posiciones posteriormente.\n",
    "\n",
    "\n",
    "1. **Definir el nombre del archivo**: Primero, definimos el nombre del archivo YAML donde se guardarán las posiciones de los agarres.\n",
    "\n",
    "2. **Guardar las Posiciones de los Agarres**: Utilizamos la función `guardar_grasps_en_yaml` de la biblioteca manipulacion_lib para guardar las posiciones de los agarres en el archivo YAML. Esta función toma dos argumentos: la lista de agarres (agarres) y el nombre del archivo (nombre_archivo).\n",
    "\n"
   ]
  },
  {
   "cell_type": "code",
   "execution_count": 8,
   "metadata": {},
   "outputs": [],
   "source": [
    "from manipulacion_lib import guardar_grasps_en_yaml\n",
    "nombre_archivo = 'grasp_poses/''grasp_poses_'+gripper_name+'_'+graspable_object_name+'.yaml'\n",
    "guardar_grasps_en_yaml(agarres = best_grasps, nombre_archivo = nombre_archivo)"
   ]
  },
  {
   "cell_type": "code",
   "execution_count": 18,
   "metadata": {},
   "outputs": [
    {
     "name": "stdout",
     "output_type": "stream",
     "text": [
      "{'dofs': [0.3066017818708881, 0.0, -0.3066017818708881, 0.07615540400011182, 0.17410178187088798, 0.0, 0.010898218129112028, -0.07615540400011182, 0.6641017818708884, 0.0, -0.6641017818708884], 'epsilon_quality': 0.008816765078409311, 'pose': [0.008269393072863352, -0.0280759366784768, 0.18359527003145887, 0.5892308409747156, 0.2728794537679233, 0.6758731618590277, -0.3486248540110556], 'volume_quality': 6.0866457892170574e-05}\n",
      "[0.3066017818708881, 0.0, -0.3066017818708881, 0.07615540400011182, 0.17410178187088798, 0.0, 0.010898218129112028, -0.07615540400011182, 0.6641017818708884, 0.0, -0.6641017818708884]\n",
      "{'dofs': [0.17981919472293237, 0.0, -0.03356919472293235, -0.03014096344407271, 0.3035691947229324, 0.0, -0.3035691947229324, 0.03014096344407271, 0.15856919472293235, 0.14125, -0.29981919472293245], 'epsilon_quality': 0.007738568676728938, 'pose': [-0.0257344797111878, 0.017231811522028934, 0.1758283311914339, 0.5196906298447954, -0.1453266794068383, 0.8048664478079668, 0.24696519329064864], 'volume_quality': 0.00011925218999346754}\n",
      "{'dofs': [0.13276392368690634, 0.0, 0.14848607631309363, -0.11986055135455372, 0.26401392368690646, 0.0, -0.26401392368690646, 0.11986055135455372, 0.26026392368690643, 0.0, -0.19151392368690634], 'epsilon_quality': 0.010187922587672538, 'pose': [0.038343718011850464, -0.011637961728929091, 0.182855465063141, 0.7249968521955806, -0.15201240399924323, 0.6428341776990354, 0.1950282372347028], 'volume_quality': 0.000151883032308001}\n",
      "{'dofs': [0.6591311903773309, 0.0, -0.41788119037733074, -0.1479752847774467, 0.5741311903773308, 0.0, -0.5291311903773308, 0.1479752847774467, 0.7303811903773311, 0.0, -0.7303811903773311], 'epsilon_quality': 0.005456291114304818, 'pose': [-0.007463972913715836, 0.026799750287551955, 0.17468070607357825, 0.6610132924784718, 0.5647091738509699, 0.4470239730029351, -0.21055769683389988], 'volume_quality': 1.808929407335011e-05}\n",
      "{'dofs': [0.1314590039639668, 0.0, -0.1314590039639668, -0.13265382125567463, 0.6564590039639672, 0.0, 0.3135409960360334, 0.13265382125567463, 0.33645900396396694, 0.03, -0.36645900396396697], 'epsilon_quality': 0.007820019800936714, 'pose': [-0.0842473569548138, 0.07583680135595733, 0.0916502246425419, 0.08865155824517573, -0.061287793304138194, 0.9392920654032129, 0.325753163427737], 'volume_quality': 8.85917242508464e-05}\n",
      "{'dofs': [0.399941253482588, 0.0, -0.2899412534825879, 0.176154837311312, 0.343691253482588, 0.0, -0.343691253482588, -0.176154837311312, 0.38369125348258803, 0.0, -0.38369125348258803], 'epsilon_quality': 0.006127642568864777, 'pose': [0.009319617661940139, 0.04403067738706669, 0.19514995079401967, 0.1955592915445733, -0.5898518118320979, 0.3642370551662367, 0.6936589732806777], 'volume_quality': 5.1653348623019086e-05}\n",
      "{'dofs': [0.4799952205445854, 0.0, -0.35999522054458527, 0.01583550574617874, 0.2812452205445852, 0.0, -0.2812452205445852, -0.01583550574617874, 0.6249952205445855, 0.0, -0.6249952205445855], 'epsilon_quality': 0.005325887961659559, 'pose': [0.017469434108819383, -0.007211194886509943, 0.18571072551461548, 0.6398425346808971, -0.4000885674931228, 0.5514942330801405, 0.35550637104526484], 'volume_quality': 2.9552540695338428e-05}\n",
      "{'dofs': [0.1666265965712203, 0.0, 0.10587340342877968, 0.03184700822137303, 0.10787659657122028, 0.0, -0.10787659657122028, -0.03184700822137303, 0.34412659657122047, 0.0, -0.34412659657122047], 'epsilon_quality': 0.008238016214373874, 'pose': [0.014241115964452688, -0.022143196803166832, 0.1846943748091033, 0.19709060543328427, -0.691607705641747, 0.060501200860194726, 0.6922237206578337], 'volume_quality': 8.579382530046112e-05}\n",
      "{'dofs': [0.3105329078278406, 0.5700000000000003, -0.6705329078278409, -0.11085604638118542, 0.5205329078278408, 0.0, -0.5205329078278408, 0.11085604638118542, 0.2105329078278405, 0.0, 0.07946709217215954], 'epsilon_quality': 0.009862862600540645, 'pose': [0.04435869702174085, 0.1076438061030439, 0.10997295890489493, 0.05894279749640336, -0.26054414905908635, 0.5345229073892331, 0.8018277586181063], 'volume_quality': 0.00011476785892688076}\n",
      "{'dofs': [0.31741421699978134, 0.0, -0.20366421699978124, -0.10263789565419087, 0.4086642169997814, 0.0, -0.4086642169997814, 0.10263789565419087, 0.4524142169997814, 0.0, -0.4524142169997814], 'epsilon_quality': 0.0066540420207477635, 'pose': [0.01976378550314264, 0.026850582480367487, 0.17946437738047658, 0.5417693949495788, 0.4456764943492716, 0.5630482263640972, -0.436846746432608], 'volume_quality': 5.982818604798684e-05}\n"
     ]
    }
   ],
   "source": [
    "import yaml\n",
    "import time\n",
    "# Ruta a tu archivo YAML donde has guardado las poses de agarre para tu gripper y objeto \n",
    "yaml_file_path = 'grasp_poses/'+'grasp_poses_robotiq_camera.yaml'\n",
    "\n",
    "# Cargar el archivo YAML\n",
    "with open(yaml_file_path, 'r') as file:\n",
    "    grasps_data1 = yaml.safe_load(file)\n",
    "\n",
    "# Iterar sobre cada agarre en el archivo YAML\n",
    "for i,grasp in enumerate(grasps_data1['grasps']):\n",
    "    print(grasp)\n",
    "    if i==0:\n",
    "      # Inicializar un objeto Pose para establecer la pose del robot\n",
    "      robot_pose = Pose()\n",
    "      robot_pose.position.x = grasp['pose'][0]\n",
    "      robot_pose.position.y = grasp['pose'][1]\n",
    "      robot_pose.position.z = grasp['pose'][2]\n",
    "      robot_pose.orientation.x = grasp['pose'][3]\n",
    "      robot_pose.orientation.y = grasp['pose'][4]\n",
    "      robot_pose.orientation.z = grasp['pose'][5]\n",
    "      robot_pose.orientation.w = grasp['pose'][6]\n",
    "      # Extraer los posiciones de las articulaciones del agarre\n",
    "      dofs = grasp['dofs']\n",
    "      print(dofs)\n",
    "      \n",
    "      GraspitCommander.autoOpen()   \n",
    "      time.sleep(1.0)\n",
    "      # Establecer la pose del robot basada en el agarre actual\n",
    "      GraspitCommander.setRobotPose(pose=robot_pose, id=0)\n",
    "      time.sleep(1.0)\n",
    "      # Forzar los DOFs del robot a los valores específicos del agarre\n",
    "      GraspitCommander.forceRobotDof(dofs, id = 0)\n",
    "      time.sleep(1.0)\n",
    "      GraspitCommander.autoGrasp()\n",
    "# dofs = [0.6998842566452714, 0.5, 0.37011574335472924, -0.011968780860716255, 0.39113425664527124, 0.0, 0.7572983624403395, 0.011968780860716255, 0.6811342566452715, 0.0, 0.2676157433547291]\n",
    "# GraspitCommander.forceRobotDof(dofs, id=0)"
   ]
  }
 ],
 "metadata": {
  "kernelspec": {
   "display_name": "Python 3 (ipykernel)",
   "language": "python",
   "name": "python3"
  },
  "language_info": {
   "codemirror_mode": {
    "name": "ipython",
    "version": 3
   },
   "file_extension": ".py",
   "mimetype": "text/x-python",
   "name": "python",
   "nbconvert_exporter": "python",
   "pygments_lexer": "ipython3",
   "version": "3.8.10"
  }
 },
 "nbformat": 4,
 "nbformat_minor": 4
}
