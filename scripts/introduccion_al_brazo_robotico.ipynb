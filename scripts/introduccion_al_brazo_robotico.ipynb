{
 "cells": [
  {
   "attachments": {},
   "cell_type": "markdown",
   "metadata": {
    "editable": false,
    "rendered": true,
    "run_control": {
     "frozen": true
    },
    "slideshow": {
     "slide_type": "slide"
    },
    "tags": []
   },
   "source": [
    "# CINEMÁTICA DIRECTA E INVERSA EN LA PRÁCTICA CON EL UR10\n",
    "\n",
    "Este jupyter notebook está diseñado para enseñarte las articulaciones, las cinemática directa e inversa del brazo robótico UR10 que utilizaréis en vuestro projecto. Estas son las principales características\n",
    "del UR10. \n",
    "\n",
    "    Carga útil: 12.5 kg\n",
    "    Alcance: 1300 mm \n",
    "    Grados de Libertad: 6 articulaciones giratorias\n",
    "    Método de Control: Control de posición\n",
    "\n",
    "\n",
    "![UR10 Robotic Arm](../images/ur10.jpg)\n",
    "\n",
    "\n",
    "## Conceptos clave\n",
    "\n",
    "- Posiciones de las Articulaciones se refieren a los ángulos o rotaciones de las articulaciones en un brazo robótico. Estas determinan la configuración del brazo. Trabajaremos con posiciones de articulaciones en radianes.\n",
    "\n",
    "- Pose describe la posición y orientación de un objeto en el espacio, que podría ser el efector final del robot u otra parte relevante. La pose incluye una posición 3D (x, y, z), medida en metros, y orientación, representada como un cuaternión (qx, qy, qz, qw).\n",
    "\n",
    "- Sistemas de refencia se utilizan para definir la posición y orientación de objetos en un espacio 3D.\n",
    "\n",
    "- Cinemática Directa (FK por sus siglas en ingles) es el proceso de calcular la pose del efector final dadas las posiciones de las articulaciones.\n",
    "\n",
    "- Cinemática Inversa (IK) es el proceso de determinar las posiciones de las articulaciones necesarias para lograr una pose deseada del efector final. A diferencia de FK, IK suele ser más complejo ya que puede haber múltiples soluciones, o a veces ninguna solución, para una pose dada del efector final.\n",
    "\n",
    "\n",
    "Nos enfocaremos en tres aspectos clave:\n",
    "\n",
    "- Control Directo del Estado de las Articulaciones: Aprenderás a publicar directamente posiciones del estado de las articulaciones en el topic /joint_states usando ROS. De esta forma podrás comprender cómo las posiciones de las articulaciones afectan la configuración del brazo robótico.\n",
    "\n",
    "- Cinemática Directa: Exploraremos cómo calcular la posición y orientación del efector final del robot basado en los ángulos de las articulaciones dadas.\n",
    "\n",
    "- Cinemática Inversa: Aprenderás cómo determinar los posiciones de las articulaciones necesarias para lograr una posición y orientación deseadas del efector final.\n",
    "\n",
    "Además, utilizaremos RViz, una herramienta de visualización 3D en ROS, para visualizar los movimientos y configuraciones del UR10 en un entorno simulado."
   ]
  },
  {
   "attachments": {},
   "cell_type": "markdown",
   "metadata": {},
   "source": [
    "## Important Note!\n",
    "In this jupyter notebook, we are directly publishing to the /joint_states topic to obseve the immediate effects of joint position changes. This method is educational and differs from real-world applications or advanced simulations like Gazebo.\n",
    "\n",
    "In upcoming sessions, we'll transition to using Gazebo with controllers. This will introduce you to more realistic robotic control scenarios, emphasizing the importance of controllers in managing joint movements according to the robot's physical constraints and dynamics.\n",
    "\n",
    "## Nota Importante!\n",
    "\n",
    "En este cuaderno de Jupyter, estamos publicando directamente en el topic /joint_states para observar los efectos inmediatos de los cambios en la posición de las articulaciones. Este método es educativo y difiere de las aplicaciones del mundo real o simulaciones avanzadas como Gazebo.\n",
    "\n",
    "En el futuro, haremos la transición a usar Gazebo con controladores. Esto te introducirá a escenarios de control robótico más realistas, enfatizando la importancia de los controladores en la gestión de los movimientos de las articulaciones de acuerdo con las restricciones físicas y la dinámica del robot."
   ]
  },
  {
   "attachments": {},
   "cell_type": "markdown",
   "metadata": {
    "slideshow": {
     "slide_type": "slide"
    },
    "tags": []
   },
   "source": [
    "## Iniciando el Entorno ROS para el UR10 en RViz\n",
    "\n",
    "Para comenzar a visualizar e interactuar con el brazo robótico UR10 en un entorno simulado, necesitas iniciar el entorno ROS utilizando RViz. Por favor, sigue estos pasos:\n",
    "\n",
    "1. Abre una Nueva Terminal: Primero, necesitas abrir una nueva ventana de terminal en tu sistema (Ctrl + Alt + T).\n",
    "\n",
    "2. Ejecuta el Comando de Lanzamiento: En la terminal recién abierta, ejecuta el siguiente comando:\n"
   ]
  },
  {
   "attachments": {},
   "cell_type": "markdown",
   "metadata": {
    "slideshow": {
     "slide_type": ""
    },
    "tags": []
   },
   "source": [
    "``` shellscript\n",
    "user@pc:~$ roslaunch manipulacion_pkg robot_rviz.launch include_gripper:=false\n",
    "\n",
    "```"
   ]
  },
  {
   "attachments": {},
   "cell_type": "markdown",
   "metadata": {
    "slideshow": {
     "slide_type": ""
    },
    "tags": []
   },
   "source": [
    "Este comando iniciará el launcher de ROS que configura el brazo robótico UR10 en RViz. Inicializa todos los nodos y parámetros necesarios.\n",
    "\n",
    "<img src=\"../images/init_rviz_robot.png\" alt=\"UR10 Rviz\" width=\"300\"/>\n"
   ]
  },
  {
   "attachments": {},
   "cell_type": "markdown",
   "metadata": {},
   "source": [
    "## Configuración de la Posición de las Articulaciones\n",
    "\n",
    "En esta sección, fijaremos directamente las posiciones de las articulaciones del brazo robótico sin ninguna restricción. Las posiciones de las articulaciones que configures se aplicarán instantáneamente al modelo del robot en RViz. Esto significa que no hay restricciones físicas o limitaciones en la simulación.\n",
    "Para hacer esto, necesitamos ejecutar los siguientes pasos:\n",
    "\n",
    "1. **Inicializar el Nodo ROS**: Comenzamos inicializando un nodo ROS llamado 'joint_state_setter'. Este nodo nos permitirá comunicarnos con otras partes del sistema ROS. La condición if not rospy.get_node_uri() asegura que solo inicializamos el nodo si aún no ha sido inicializado.\n",
    "\n",
    "2. **Crear un ROS Publisher**: Creamos un publicador ROS en el tema /joint_states. Este publicador se utilizará para enviar mensajes JointState, que contienen las posiciones de las articulaciones que queremos configurar. El parámetro queue_size=10 especifica el tamaño de la cola de mensajes salientes.\n",
    "\n",
    "3. **Definir los Valores de las Articulaciones**: Definimos un array joint_values con seis valores, cada uno correspondiente a una articulación del brazo robótico ur10.\n",
    "\n",
    "4. **Fijar las Posiciones de las Articulaciones**: Utilizamos la función set_joint_states de la biblioteca manipulacion_lib para enviar los valores de las articulaciones al brazo robótico. Esta función toma el publisher y el array de valores de las articulaciones como argumentos y los publica en el topic /joint_states.\n",
    "\n",
    "Para ejecutar el código, simplemente ejecuta la siguiente celda. Esto creará el nodo ROS, el publisher y configurará las posiciones de las articulaciones a los valores especificados."
   ]
  },
  {
   "cell_type": "code",
   "execution_count": 1,
   "metadata": {},
   "outputs": [],
   "source": [
    "import rospy\n",
    "from sensor_msgs.msg import JointState\n",
    "from geometry_msgs.msg import Pose\n",
    "import manipulacion_lib\n",
    "\n",
    "# Inicializar el nodo de ROS si aún no se ha inicializado\n",
    "if not rospy.get_node_uri():\n",
    "    rospy.init_node('joint_state_setter')\n",
    "\n",
    "# Crear un publisher de ROS para publicar los valores de las articulaciones\n",
    "pub = rospy.Publisher('/joint_states', JointState, queue_size=10)\n",
    "\n",
    "\n",
    "# Crear un objeto robot\n",
    "ur10 = manipulacion_lib.Robot()\n",
    "\n",
    "# Definir los valores de las articulaciones\n",
    "valores_articulaciones = [0, -1, 1, 0.5, 0, 0]\n",
    "\n",
    "\n",
    "# Fijar los valores de las articulaciones\n",
    "ur10.fijar_posicion_articulaciones(pub_estados_articulaciones = pub, posiciones_articulaciones = valores_articulaciones)\n",
    "\n",
    "\n"
   ]
  },
  {
   "attachments": {},
   "cell_type": "markdown",
   "metadata": {},
   "source": [
    "## Posición de las Articulaciones con Sliders\n",
    "\n",
    "En esta sección, tendrás la oportunidad de fijar las posiciones de las articulaciones del brazo UR10 utilizando sliders. Esta sección  está diseñada para ayudarte a entender cómo las diferentes posiciones de las articulaciones afectan la configuración del robot.\n",
    "\n",
    "Instrucciones:\n",
    "\n",
    "1. Ejecuta la Siguiente Celda: Esto mostrará sliders para cada articulación del robot UR10. Debería aparecer algo como esta imagen.\n",
    "\n",
    "\n",
    "![Joint Position Setting](../images/sliders_setting_position.png)\n",
    "\n",
    "2. Mueve los Sliders para fijar la posición de las articulacines. Cada slider representa una articulación específica del UR10, lo que te permite controlar su posición de manera independiente.\n",
    "\n",
    "3. Observa los Cambios: Mientras ajustas los sliders, observa la visualización en RViz para ver cómo cambia la psoe del robot. Esta retroalimentación en tiempo real proporcionará una visión valiosa de los efectos cinemáticos de diferentes posiciones de las articulaciones en la postura y alcance general del robot.\n",
    "\n",
    "3.  Observe the Changes: Al ajustar los sliders, observa en RViz cómo cambia la pose del robot. \n",
    "\n",
    "4. Experimenta con diferentes posiciones de las articulaciones: Observa el rango de movimiento del robot y cómo alterar las posiciones de las articulaciones impacta en la posición del efector final.\n",
    "\n"
   ]
  },
  {
   "cell_type": "code",
   "execution_count": 2,
   "metadata": {},
   "outputs": [
    {
     "data": {
      "application/vnd.jupyter.widget-view+json": {
       "model_id": "9adc8774d76c4760b3c8291fc4c45f43",
       "version_major": 2,
       "version_minor": 0
      },
      "text/plain": [
       "VBox(children=(FloatSlider(value=0.0, description='shoulder_pan_joint', layout=Layout(width='500px'), max=6.28…"
      ]
     },
     "metadata": {},
     "output_type": "display_data"
    }
   ],
   "source": [
    "# Inicializa el controlador de sliders para la configuración de las articulaciones.\n",
    "# 'SliderJointSetter' crea una interfaz de sliders para ajustar las articulaciones del robot.\n",
    "# 'robot=ur10' especifica que estamos configurando el robot UR10.\n",
    "# 'pub_joint_states=pub' pasa el publicador ROS que maneja los estados de las articulaciones.\n",
    "\n",
    "sliderJointSetter = manipulacion_lib.ConfiguradorSlidersArticulaciones(robot=ur10, pub_estados_articulaciones=pub)"
   ]
  },
  {
   "attachments": {},
   "cell_type": "markdown",
   "metadata": {},
   "source": [
    "## Cinemática Directa\n",
    "\n",
    "En esta sección, exploraremos el concepto de Cinemática Directa en el contexto del brazo robótico UR10. La Cinemática Directa es el proceso de calcular la posición y orientación del efector final del robot (tool0) basándonos en las posiciones conocidas de las articulaciones en relación con la base del robot (base_link).\n",
    "\n",
    "Pasos:\n",
    "\n",
    "1 - Crear un Objeto de Cinemática: Utilizamos la clase Kinematics de la clase manipulacion_lib para crear un objeto de cinemática. Este objeto requiere tres parámetros: el objeto robot (una instancia de manipulacion_lib.Robot) y los nombres de base_link y end_link (en nuestro caso, tool0). Este objeto es responsable no solo de definir la cadena cinemática desde la base del robot hasta su efector final, sino también de crear los solucionadores de FK e Cinemática Inversa (IK).\n",
    "\n",
    "\n",
    "2 - Obtener Posiciones Actuales de las Articulaciones: Llamamos al método get_joint_states en el objeto robot ur10 para obtener las posiciones actuales de las articulaciones. Estos valores representan las posiciones actuales de cada articulación en el brazo robótico.\n",
    "\n",
    "3 - Calcular la Cinemática Directa: El método compute_fk del objeto kin se emplea para calcular la pose del efector final (tool0). Este método toma las posiciones de las articulaciones y calcula la pose en relación con el sistema de referencia base_link. El resultado incluye tanto la posición como la orientación en cuaterniones del efector final.\n",
    "\n",
    "4 - Mostrar la Pose del Efector Final\n",
    "\n"
   ]
  },
  {
   "cell_type": "code",
   "execution_count": 3,
   "metadata": {
    "slideshow": {
     "slide_type": ""
    },
    "tags": []
   },
   "outputs": [
    {
     "name": "stdout",
     "output_type": "stream",
     "text": [
      "Posiciones articulaciones:  [0, -1, 1, 0.5, 0, 0]\n",
      "Efector final:  position: \n",
      "  x: 0.8474954763747953\n",
      "  y: 0.2561410000610682\n",
      "  z: 0.8407439402391812\n",
      "orientation: \n",
      "  x: 0.17494101729921407\n",
      "  y: 0.6851245438377374\n",
      "  z: 0.6851245436972162\n",
      "  w: -0.174941017263333\n"
     ]
    }
   ],
   "source": [
    "# Crea un objeto cinemática con el objeto robot y los nombres de los eslabones base y final\n",
    "kin = manipulacion_lib.Cinematica(robot=ur10, frame_base='base_link', frame_final='tool0')\n",
    "\n",
    "# Obtener los valores de las articulaciones del robot\n",
    "posiciones_articulaciones_actuales = ur10.obtener_posiciones_articulaciones()\n",
    "print(\"Posiciones articulaciones: \", posiciones_articulaciones_actuales)\n",
    "\n",
    "# Calcular la cinemática directa para los valores actuales de las articulaciones para obtener\n",
    "# la pose del efector final\n",
    "\n",
    "pose_efector_final = kin.calcular_cd(posiciones_articulaciones_actuales)\n",
    "print(\"Efector final: \", pose_efector_final)"
   ]
  },
  {
   "attachments": {},
   "cell_type": "markdown",
   "metadata": {},
   "source": [
    "Después de calcular la pose del efector final usando cinemática directa, la visualizamos en RViz usando un marcador:\n",
    "\n",
    "- **Publisher de Marcadores**: Creamos un publicador ROS para marcadores en el topic `/end_effector_marker`.\n",
    "\n",
    "- **Publicar Pose como Marcador**: La función `publicar_marcador` envía la pose del efector final (efector_final_pose) a RViz, mostrando su posición y orientación con respecto a la base del robot.\n",
    "\n",
    "- **Visualización en RViz**: El marcador en RViz representa la pose del efector final.\n",
    "\n",
    "\n"
   ]
  },
  {
   "cell_type": "code",
   "execution_count": 4,
   "metadata": {},
   "outputs": [],
   "source": [
    "from visualization_msgs.msg import MarkerArray\n",
    "\n",
    "# Crear un publisher de ROS para publicar los marcadores\n",
    "pub_marcador = rospy.Publisher('/end_effector_marker', MarkerArray, queue_size=10)\n",
    "\n",
    "# Publicar los marcadores del efector final\n",
    "# Parametros:\n",
    "# marker_pub: publisher de ROS\n",
    "# end_effector_pose: pose del efector final\n",
    "# frame_id: frame de referencia\n",
    "\n",
    "manipulacion_lib.publicar_marcador(pub_marcador=pub_marcador, pose_efector_final=pose_efector_final, frame_id='base_link')\n",
    "\n"
   ]
  },
  {
   "attachments": {},
   "cell_type": "markdown",
   "metadata": {},
   "source": [
    "## Exploración Interactiva de la Cinemática Directa\n",
    "\n",
    "Ahora, pongamos en práctica tu comprensión de la cinemática directa:\n",
    "\n",
    "1 - **Mueve los Sliders**: Ajusta los deslizadores para cambiar los valores de las articulaciones del UR10.\n",
    "\n",
    "2 - **Calcular la Pose del Efector Final**: Después de configurar los valores de las articulaciones, utiliza la función de cinemática directa para calcular la pose del efector final.\n",
    "\n",
    "3 - **Visualizar en RViz**: Publica la pose calculada como un marcador en RViz.\n"
   ]
  },
  {
   "cell_type": "code",
   "execution_count": 5,
   "metadata": {},
   "outputs": [
    {
     "data": {
      "application/vnd.jupyter.widget-view+json": {
       "model_id": "5224c91015ba4ce78d796d9c8fb67390",
       "version_major": 2,
       "version_minor": 0
      },
      "text/plain": [
       "VBox(children=(FloatSlider(value=0.0, description='shoulder_pan_joint', layout=Layout(width='500px'), max=6.28…"
      ]
     },
     "metadata": {},
     "output_type": "display_data"
    }
   ],
   "source": [
    "# Creates a slider to set the joint values of the robot\n",
    "configurador_sliders_articulaciones = manipulacion_lib.ConfiguradorSlidersArticulaciones(robot=ur10, pub_estados_articulaciones=pub)"
   ]
  },
  {
   "cell_type": "code",
   "execution_count": 6,
   "metadata": {},
   "outputs": [],
   "source": [
    "pose_efector_final = kin.calcular_cd(ur10.obtener_posiciones_articulaciones())\n",
    "manipulacion_lib.publicar_marcador(pub_marcador=pub_marcador, pose_efector_final=pose_efector_final, frame_id='base_link')"
   ]
  },
  {
   "attachments": {},
   "cell_type": "markdown",
   "metadata": {},
   "source": [
    "## Cinemática Inversa\n",
    "\n",
    "El objetivo de la cinemática inversa es encontrar las posiciones de las articulaciones que resultan en una posición y orientación deseadas del efector final del robot. En esta sección, exploraremos cómo usar la cinemática inversa para calcular las posiciones de las articulaciones necesarias para que el brazo robótico UR10 alcance una pose específica.\n",
    "\n",
    "Pasos:\n",
    "\n",
    "1 - **Definir la Pose Deseada**: La variable pose_deseada es una instancia de la clase Pose de geometry_msgs de ROS, que representa la posición y orientación deseadas del efector final del robot.\n",
    "\n",
    "2 - **Publicar un Marcador para Visualización**: La función publicar_marcador se llama para publicar un marcador en la pose deseada. Esto ayuda a visualizar la posición y orientación objetivo en RViz. El publicador_marcador es el publicador ROS para marcadores, y frame_id='base_link' especifica que la pose está definida en relación con el enlace base del robot.\n",
    "\n",
    "3 - **Calcular la Cinemática Inversa**: El método calcular_ik del objeto kin (que representa la cinemática del robot) se llama para calcular la cinemática inversa. Toma los estados actuales de las articulaciones del robot (ur10.obtener_estados_articulaciones()) y la pose_objetivo como entradas. El método devuelve un booleano valido que indica si se encontró una solución válida, y valores_articulaciones_deseados, que son los ángulos de las articulaciones requeridos para lograr la pose deseada.\n",
    "\n",
    "4 - **Establecer los Estados de las Articulaciones del Robot**: Si se encuentra una solución válida (if valido:), se imprimen los ángulos de las articulaciones (valores_articulaciones_objetivo). Luego se llama al método establecer_estados_articulaciones del objeto robot ur10 para aplicar estos ángulos al robot. Este método toma el publicador (el publicador ROS para estados de articulaciones) y los valores_articulaciones_objetivo como argumentos y los publica en el tema /joint_states.\n"
   ]
  },
  {
   "cell_type": "code",
   "execution_count": 13,
   "metadata": {},
   "outputs": [],
   "source": [
    "# Crear pose del efector final\n",
    "pose_deseada = Pose()\n",
    "pose_deseada.position.x = 0.6\n",
    "pose_deseada.position.y = 0.4\n",
    "pose_deseada.position.z = 0.6\n",
    "pose_deseada.orientation.x = 0.0\n",
    "pose_deseada.orientation.y = 0.0\n",
    "pose_deseada.orientation.z = 0.0\n",
    "pose_deseada.orientation.w = 1.0\n",
    "\n",
    "# Publicar marcador del efector final\n",
    "manipulacion_lib.publicar_marcador(pub_marcador=pub_marcador, pose_efector_final=pose_deseada, frame_id='base_link')\n",
    "\n",
    "# Calcular la cinemática inversa para la pose deseada\n",
    "# Parametros:\n",
    "# posiciones_articulaciones_actuales: posiciones articulares actuales del robot\n",
    "# pose_deseada: pose deseada del efector final\n",
    "# Retorna:\n",
    "# valida: True si la cinemática inversa es válida, False en caso contrario\n",
    "# posiciones_articulares_deseadas: posiciones articulares ci del robot para la pose deseada\n",
    "valida, posiciones_articulares_deseadas = kin.calcular_ci(posiciones_articulaciones_actuales=ur10.obtener_posiciones_articulaciones(), pose_deseada=pose_deseada)\n",
    "\n",
    "if valida:\n",
    "    # Fijar las posiciones articulares deseadas\n",
    "    print(\"Posiciones articulares deseadas: \", posiciones_articulares_deseadas)\n",
    "    ur10.fijar_posicion_articulaciones(pub_estados_articulaciones=pub, posiciones_articulaciones=posiciones_articulares_deseadas)"
   ]
  },
  {
   "attachments": {},
   "cell_type": "markdown",
   "metadata": {},
   "source": [
    "# Configuración de la Pose del Efector Final con Sliders\n",
    "\n",
    "En esta sección, usarás sliders para configurar la pose objetivo (posición y orientación) del efector final del UR10. \n",
    "\n",
    "Instrucciones:\n",
    "\n",
    "- **Ejecuta la Siguiente Celda**: Esto creará una instancia de ConfiguradorSlidersEfectorFinal de la biblioteca manipulacion_lib. Esta instancia será responsable de gestionar la posición y orientación de la pose objetivo.\n",
    "\n",
    "- **Ajusta los sliders**: Verás sliders tanto para la posición (x, y, z) como para la orientación (roll, pitch, yaw) del efector final. Ajusta estos sliderts para establecer la pose objetivo deseada del efector final.\n",
    "\n",
    "- **Calcular la Cinemática Inversa**: Después de establecer la pose objetivo, ejecuta la celda de código siguiente para calcular la cinemática inversa. Si se encuentra una solución, los estados de las articulaciones del robot se actualizarán a esta nueva configuración.\n",
    "\n",
    "- **Explora**: Prueba diferentes poses para entender cómo se adaptan las articulaciones del robot para alcanzar el objetivo.\n",
    "\n",
    "- **Manejo de Poses Objetivo Inalcanzables**: Si el solver de cinemática inversa no puede encontrar una solución para una pose objetivo desde las posiciones actuales de las articulaciones, la configuración del robot no cambiará y no verás movimiento en RViz.\n",
    "\n",
    "\n"
   ]
  },
  {
   "cell_type": "code",
   "execution_count": 12,
   "metadata": {},
   "outputs": [
    {
     "ename": "TypeError",
     "evalue": "__init__() got an unexpected keyword argument 'pub_marcador_efector_final'",
     "output_type": "error",
     "traceback": [
      "\u001b[0;31m---------------------------------------------------------------------------\u001b[0m",
      "\u001b[0;31mTypeError\u001b[0m                                 Traceback (most recent call last)",
      "Cell \u001b[0;32mIn[12], line 1\u001b[0m\n\u001b[0;32m----> 1\u001b[0m configuradorSlidersEfectorFinal \u001b[39m=\u001b[39m manipulacion_lib\u001b[39m.\u001b[39;49mConfiguradorSlidersEfectorFinal(robot \u001b[39m=\u001b[39;49m ur10, pub_estados_articulaciones \u001b[39m=\u001b[39;49m pub, pub_marcador_efector_final \u001b[39m=\u001b[39;49m pub_marcador, cinematica\u001b[39m=\u001b[39;49mkin)\n",
      "\u001b[0;31mTypeError\u001b[0m: __init__() got an unexpected keyword argument 'pub_marcador_efector_final'"
     ]
    }
   ],
   "source": [
    "configuradorSlidersEfectorFinal = manipulacion_lib.ConfiguradorSlidersEfectorFinal(robot = ur10, pub_estados_articulaciones = pub, pub_marcador_efector_final = pub_marcador, cinematica=kin)"
   ]
  },
  {
   "cell_type": "code",
   "execution_count": null,
   "metadata": {},
   "outputs": [
    {
     "name": "stdout",
     "output_type": "stream",
     "text": [
      "Solución de cinemática inversa encontrada!\n",
      "posiciones_articulaciones_actuales:  [6.030398146916913, -0.8966098977341669, 1.9835952821633496, 6.032257189256601, 0.6467016075134748, 0.9228849911523205]\n",
      "Posiciones articulares deseadas:  [6.03039855287656, -1.075544387630762, 1.9718480881612315, 6.222932210798007, 0.646702331194488, 0.9228919281994354]\n"
     ]
    }
   ],
   "source": [
    "valida, posiciones_articulares_deseadas = kin.calcular_ci(posiciones_articulaciones_actuales=ur10.obtener_posiciones_articulaciones(), pose_deseada=configuradorSlidersEfectorFinal.obtener_pose_sliders())\n",
    "if valida:\n",
    "    print(\"Solución de cinemática inversa encontrada!\")\n",
    "    print(\"posiciones_articulaciones_actuales: \", ur10.obtener_posiciones_articulaciones())\n",
    "    print(\"Posiciones articulares deseadas: \", posiciones_articulares_deseadas)\n",
    "    ur10.fijar_posicion_articulaciones(pub_estados_articulaciones=pub, posiciones_articulaciones=posiciones_articulares_deseadas)\n",
    "else:\n",
    "    print(\"No se encontró una solución de cinemática inversa!\")\n",
    "ur10.fijar_posicion_articulaciones(pub_estados_articulaciones=pub, posiciones_articulaciones=posiciones_articulares_deseadas)\n"
   ]
  },
  {
   "attachments": {},
   "cell_type": "markdown",
   "metadata": {},
   "source": [
    "## Inverse Kinematics of Manipulators In Motion"
   ]
  },
  {
   "cell_type": "code",
   "execution_count": 11,
   "metadata": {},
   "outputs": [
    {
     "name": "stdout",
     "output_type": "stream",
     "text": [
      "Singular Jacobian\n",
      "New joint values:  [-0.00318531 -1.07318531  1.57840735  1.02681469  1.60681469 -0.00318531]\n",
      "Singular Jacobian\n",
      "New joint values:  [ 0.00507601 -1.04375529  1.51695257  1.0604911   1.60762311  0.00511563]\n",
      "Singular Jacobian\n",
      "New joint values:  [-0.02292388 -0.98626948  1.37836638  1.14187934  1.6052116  -0.02279839]\n",
      "Singular Jacobian\n",
      "New joint values:  [-0.10849202 -0.76056592  0.93667476  1.36465656  1.59521506 -0.10797002]\n",
      "Singular Jacobian\n",
      "New joint values:  [-0.28538661  0.22174461 -0.92651169  2.27225184  1.56687746 -0.28405419]\n",
      "New joint values:  [-0.08740565  0.69187986 -1.98185278  2.80963034  1.58956823 -0.08538616]\n",
      "New joint values:  [ 0.01767725  0.54023229 -1.6433105   2.61274897  1.58333127  0.02242025]\n",
      "New joint values:  [-9.91573016e-03  5.40652183e-01 -1.63552245e+00  2.57914167e+00\n",
      "  1.55982497e+00  1.53729196e-03]\n",
      "New joint values:  [-0.01599341  0.55277873 -1.65101361  2.53635081  1.51234116  0.01163843]\n",
      "New joint values:  [-0.02853407  0.56395388 -1.67891748  2.45933746  1.4198422   0.03812993]\n",
      "New joint values:  [-0.05263204  0.57667583 -1.73427652  2.30982718  1.24066638  0.1124151 ]\n",
      "New joint values:  [-0.09444367  0.60390381 -1.85563236  1.97928852  0.9153987   0.33874025]\n",
      "New joint values:  [-0.13902115  0.69927202 -2.15768786  1.02960107  0.48679028  1.13683316]\n",
      "New joint values:  [-0.09687158  1.50528047 -2.92840323 -2.51144241  0.95544759  3.73225463]\n",
      "New joint values:  [ 1.79734454 -0.6684814  -1.17076106 -2.83018762  0.59333476  3.16096688]\n",
      "New joint values:  [-2.86821895  1.56120264 -6.87779127  6.24551029 -0.24011247 -3.03977695]\n",
      "Singular Jacobian\n",
      "New joint values:  [ 10.38691573 -28.73676006  50.38206073  17.4625311    8.95451883\n",
      " -41.87542826]\n",
      "New joint values:  [ 10.11377795 -39.34734769  73.50579501   2.22711601   7.50239644\n",
      " -45.674926  ]\n",
      "Singular Jacobian\n",
      "New joint values:  [ 10.46460767 -37.06306966  73.97294754  -1.75515765   9.9195816\n",
      " -45.17872602]\n",
      "Singular Jacobian\n",
      "New joint values:  [ 1.33892347e+01 -3.45970451e+01  7.34017246e+01 -2.24073021e-03\n",
      "  6.10828891e+00 -3.98211310e+01]\n",
      "New joint values:  [ 14.83108316 -38.49550891  73.47052505  22.41948085   7.62809286\n",
      " -56.38791746]\n",
      "Singular Jacobian\n",
      "New joint values:  [ 64.85835144 -24.92968715  69.41475399   4.06781253  38.95676571\n",
      " -15.89970634]\n",
      "Singular Jacobian\n",
      "New joint values:  [ 67.34593091   4.09419764   3.91146944  43.48640133  40.75428573\n",
      " -19.67997537]\n",
      "Singular Jacobian\n",
      "New joint values:  [  27.81224104  140.26613969   43.75973168 -717.78331819   28.23188646\n",
      " -606.33624227]\n",
      "Singular Jacobian\n",
      "New joint values:  [   -5.22200824    89.4018987    287.94543213 -1546.86082599\n",
      "    -4.74986627 -1242.63128217]\n",
      "New joint values:  [   -6.34161715    90.55801906   285.74437571 -1547.56797335\n",
      "    -6.61826682 -1243.05211826]\n",
      "Singular Jacobian\n",
      "New joint values:  [ -135.79158927  -314.66932701   198.48170331  -867.39808609\n",
      "   103.44762428 -1440.13016976]\n",
      "Singular Jacobian\n",
      "New joint values:  [   -4.64752559  -290.43144996   188.78265615  -753.65249978\n",
      "   -24.71851701 -1308.68686995]\n",
      "Singular Jacobian\n",
      "New joint values:  [   -6.50084254  -292.34914444   194.10607838  -767.79799887\n",
      "   -25.82760296 -1298.88206432]\n",
      "New joint values:  [   -6.50466664  -287.97149646   184.70744155  -764.84613331\n",
      "   -24.76288724 -1298.85784987]\n"
     ]
    }
   ],
   "source": [
    "# First I'm going to set the joint values to the initial position\n",
    "import numpy as np\n",
    "time_step = 0.1\n",
    "ur10.fijar_posicion_articulaciones(pub, [-0.0031853071795859833, -1.0731853071795863, 1.5784073464102075, 1.0268146928204134, 1.6068146928204134, -0.0031853071795859833])\n",
    "# Get the end effector pose for the current joint values\n",
    "start_eff_pose = kin.calcular_cd(ur10.obtener_posiciones_articulaciones())\n",
    "rospy.sleep(1)\n",
    "goal_eff_pose = Pose()\n",
    "goal_eff_pose.position.x = start_eff_pose.position.x + 0.0\n",
    "goal_eff_pose.position.y = start_eff_pose.position.y +0.0\n",
    "goal_eff_pose.position.z = start_eff_pose.position.z - 0.3\n",
    "goal_eff_pose.orientation.x = start_eff_pose.orientation.x\n",
    "goal_eff_pose.orientation.y = start_eff_pose.orientation.y\n",
    "goal_eff_pose.orientation.z = start_eff_pose.orientation.z\n",
    "goal_eff_pose.orientation.w = start_eff_pose.orientation.w\n",
    "# Publish the goal marker\n",
    "manipulacion_lib.publicar_marcador(pub_marcador=pub_marcador, pose_efector_final=goal_eff_pose, frame_id='base_link')\n",
    "\n",
    "# Create trajectory from start to goal\n",
    "trajectory = manipulacion_lib.create_trajectory(start_eff_pose, goal_eff_pose, 30)\n",
    "\n",
    "for i in range(len(trajectory)):\n",
    "    current_joint_states = ur10.obtener_posiciones_articulaciones()\n",
    "    current_pose = kin.calcular_cd(current_joint_states)\n",
    "    goal_pose = trajectory[i]\n",
    "    jac = kin.calcular_jacobiana(current_joint_states)\n",
    "    # I want to check if the jacobian is singular\n",
    "    if np.linalg.det(jac) < 0.0001:\n",
    "        print(\"Singular Jacobian\")\n",
    "\n",
    "        jac = kin.calcular_damped_jacobiana(jac, 0.001)\n",
    "    jacobian_pseudo_inverse = kin.calcular_pseudoinversa_jacobiana(jac)\n",
    "    \n",
    "    error_pose = manipulacion_lib.get_pose_error(current_pose, goal_pose)\n",
    "   \n",
    "    error_pose[3:6] = error_pose[3:6] * 1.0\n",
    "    # print(\"Error pose: \", error_pose)\n",
    "\n",
    "    # Compute the change in joint values\n",
    "    vel_joint_values = np.dot(jacobian_pseudo_inverse, error_pose/time_step)\n",
    "    \n",
    "    new_joint_values = current_joint_states + vel_joint_values*time_step\n",
    "    \n",
    "    # Set the new joint values\n",
    "    print(\"New joint values: \", new_joint_values)\n",
    "    ur10.fijar_posicion_articulaciones(pub, new_joint_values)\n",
    "    \n",
    "    rospy.sleep(time_step)"
   ]
  }
 ],
 "metadata": {
  "kernelspec": {
   "display_name": "Python 3 (ipykernel)",
   "language": "python",
   "name": "python3"
  },
  "language_info": {
   "codemirror_mode": {
    "name": "ipython",
    "version": 3
   },
   "file_extension": ".py",
   "mimetype": "text/x-python",
   "name": "python",
   "nbconvert_exporter": "python",
   "pygments_lexer": "ipython3",
   "version": "3.8.10"
  }
 },
 "nbformat": 4,
 "nbformat_minor": 4
}
