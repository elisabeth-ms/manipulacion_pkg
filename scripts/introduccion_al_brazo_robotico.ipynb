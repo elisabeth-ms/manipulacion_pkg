{
 "cells": [
  {
   "attachments": {},
   "cell_type": "markdown",
   "metadata": {
    "editable": false,
    "rendered": true,
    "run_control": {
     "frozen": true
    },
    "slideshow": {
     "slide_type": "slide"
    },
    "tags": []
   },
   "source": [
    "# CINEMÁTICA DIRECTA E INVERSA EN LA PRÁCTICA CON EL UR10\n",
    "\n",
    "Este jupyter notebook está diseñado para enseñarte las articulaciones, las cinemática directa e inversa del brazo robótico UR10 que utilizaréis en vuestro projecto. Estas son las principales características\n",
    "del UR10. \n",
    "\n",
    "    Carga útil: 12.5 kg\n",
    "    Alcance: 1300 mm \n",
    "    Grados de Libertad: 6 articulaciones giratorias\n",
    "    Método de Control: Control de posición\n",
    "\n",
    "\n",
    "![UR10 Robotic Arm](../images/ur10.jpg)\n",
    "\n",
    "\n",
    "## Conceptos clave\n",
    "\n",
    "- Posiciones de las Articulaciones se refieren a los ángulos o rotaciones de las articulaciones en un brazo robótico. Estas determinan la configuración del brazo. Trabajaremos con posiciones de articulaciones en radianes.\n",
    "\n",
    "- Pose describe la posición y orientación de un objeto en el espacio, que podría ser el efector final del robot u otra parte relevante. La pose incluye una posición 3D (x, y, z), medida en metros, y orientación, representada como un cuaternión (qx, qy, qz, qw).\n",
    "\n",
    "- Sistemas de refencia se utilizan para definir la posición y orientación de objetos en un espacio 3D.\n",
    "\n",
    "- Cinemática Directa (FK por sus siglas en ingles) es el proceso de calcular la pose del efector final dadas las posiciones de las articulaciones.\n",
    "\n",
    "- Cinemática Inversa (IK) es el proceso de determinar las posiciones de las articulaciones necesarias para lograr una pose deseada del efector final. A diferencia de FK, IK suele ser más complejo ya que puede haber múltiples soluciones, o a veces ninguna solución, para una pose dada del efector final.\n",
    "\n",
    "\n",
    "Nos enfocaremos en tres aspectos clave:\n",
    "\n",
    "- Control Directo del Estado de las Articulaciones: Aprenderás a publicar directamente posiciones del estado de las articulaciones en el topic /joint_states usando ROS. De esta forma podrás comprender cómo las posiciones de las articulaciones afectan la configuración del brazo robótico.\n",
    "\n",
    "- Cinemática Directa: Exploraremos cómo calcular la posición y orientación del efector final del robot basado en los ángulos de las articulaciones dadas.\n",
    "\n",
    "- Cinemática Inversa: Aprenderás cómo determinar los posiciones de las articulaciones necesarias para lograr una posición y orientación deseadas del efector final.\n",
    "\n",
    "Además, utilizaremos RViz, una herramienta de visualización 3D en ROS, para visualizar los movimientos y configuraciones del UR10 en un entorno simulado."
   ]
  },
  {
   "attachments": {},
   "cell_type": "markdown",
   "metadata": {},
   "source": [
    "## Important Note!\n",
    "In this jupyter notebook, we are directly publishing to the /joint_states topic to obseve the immediate effects of joint position changes. This method is educational and differs from real-world applications or advanced simulations like Gazebo.\n",
    "\n",
    "In upcoming sessions, we'll transition to using Gazebo with controllers. This will introduce you to more realistic robotic control scenarios, emphasizing the importance of controllers in managing joint movements according to the robot's physical constraints and dynamics.\n",
    "\n",
    "## Nota Importante!\n",
    "\n",
    "En este cuaderno de Jupyter, estamos publicando directamente en el topic /joint_states para observar los efectos inmediatos de los cambios en la posición de las articulaciones. Este método es educativo y difiere de las aplicaciones del mundo real o simulaciones avanzadas como Gazebo.\n",
    "\n",
    "En el futuro, haremos la transición a usar Gazebo con controladores. Esto te introducirá a escenarios de control robótico más realistas, enfatizando la importancia de los controladores en la gestión de los movimientos de las articulaciones de acuerdo con las restricciones físicas y la dinámica del robot."
   ]
  },
  {
   "attachments": {},
   "cell_type": "markdown",
   "metadata": {
    "slideshow": {
     "slide_type": "slide"
    },
    "tags": []
   },
   "source": [
    "## Iniciando el Entorno ROS para el UR10 en RViz\n",
    "\n",
    "Para comenzar a visualizar e interactuar con el brazo robótico UR10 en un entorno simulado, necesitas iniciar el entorno ROS utilizando RViz. Por favor, sigue estos pasos:\n",
    "\n",
    "1. Abre una Nueva Terminal: Primero, necesitas abrir una nueva ventana de terminal en tu sistema (Ctrl + Alt + T).\n",
    "\n",
    "2. Ejecuta el Comando de Lanzamiento: En la terminal recién abierta, ejecuta el siguiente comando:\n"
   ]
  },
  {
   "attachments": {},
   "cell_type": "markdown",
   "metadata": {
    "slideshow": {
     "slide_type": ""
    },
    "tags": []
   },
   "source": [
    "``` shellscript\n",
    "user@pc:~$ roslaunch manipulacion_pkg robot_rviz.launch\n",
    "\n",
    "```"
   ]
  },
  {
   "attachments": {},
   "cell_type": "markdown",
   "metadata": {
    "slideshow": {
     "slide_type": ""
    },
    "tags": []
   },
   "source": [
    "Este comando iniciará el launcher de ROS que configura el brazo robótico UR10 en RViz. Inicializa todos los nodos y parámetros necesarios.\n",
    "\n",
    "<img src=\"../images/init_rviz_robot.png\" alt=\"UR10 Rviz\" width=\"300\"/>\n"
   ]
  },
  {
   "attachments": {},
   "cell_type": "markdown",
   "metadata": {},
   "source": [
    "## Configuración de la Posición de las Articulaciones\n",
    "\n",
    "En esta sección, fijaremos directamente las posiciones de las articulaciones del brazo robótico sin ninguna restricción. Las posiciones de las articulaciones que configures se aplicarán instantáneamente al modelo del robot en RViz. Esto significa que no hay restricciones físicas o limitaciones en la simulación.\n",
    "Para hacer esto, necesitamos ejecutar los siguientes pasos:\n",
    "\n",
    "1. **Inicializar el Nodo ROS**: Comenzamos inicializando un nodo ROS llamado 'joint_state_setter'. Este nodo nos permitirá comunicarnos con otras partes del sistema ROS. La condición if not rospy.get_node_uri() asegura que solo inicializamos el nodo si aún no ha sido inicializado.\n",
    "\n",
    "2. **Crear un ROS Publisher**: Creamos un publicador ROS en el tema /joint_states. Este publicador se utilizará para enviar mensajes JointState, que contienen las posiciones de las articulaciones que queremos configurar. El parámetro queue_size=10 especifica el tamaño de la cola de mensajes salientes.\n",
    "\n",
    "3. **Definir los Valores de las Articulaciones**: Definimos un array joint_values con seis valores, cada uno correspondiente a una articulación del brazo robótico ur10.\n",
    "\n",
    "4. **Fijar las Posiciones de las Articulaciones**: Utilizamos la función set_joint_states de la biblioteca manipulacion_lib para enviar los valores de las articulaciones al brazo robótico. Esta función toma el publisher y el array de valores de las articulaciones como argumentos y los publica en el topic /joint_states.\n",
    "\n",
    "Para ejecutar el código, simplemente ejecuta la siguiente celda. Esto creará el nodo ROS, el publisher y configurará las posiciones de las articulaciones a los valores especificados."
   ]
  },
  {
   "cell_type": "code",
   "execution_count": 2,
   "metadata": {},
   "outputs": [],
   "source": [
    "import rospy\n",
    "from sensor_msgs.msg import JointState\n",
    "from geometry_msgs.msg import Pose\n",
    "import manipulacion_lib\n",
    "\n",
    "# Inicializar el nodo de ROS si aún no se ha inicializado\n",
    "if not rospy.get_node_uri():\n",
    "    rospy.init_node('joint_state_setter')\n",
    "\n",
    "# Crear un publisher de ROS para publicar los valores de las articulaciones\n",
    "pub = rospy.Publisher('/joint_states', JointState, queue_size=10)\n",
    "\n",
    "\n",
    "# Crear un objeto robot\n",
    "ur10 = manipulacion_lib.FakeRobot()\n",
    "\n",
    "# Definir los valores de las articulaciones\n",
    "valores_articulaciones = [0, -1, 1, 0.5, 0, 0]\n",
    "\n",
    "\n",
    "# Fijar los valores de las articulaciones\n",
    "ur10.fijar_posicion_articulaciones(pub_estados_articulaciones = pub, posiciones_articulaciones = valores_articulaciones)\n",
    "\n",
    "\n"
   ]
  },
  {
   "attachments": {},
   "cell_type": "markdown",
   "metadata": {},
   "source": [
    "## Posición de las Articulaciones con Sliders\n",
    "\n",
    "En esta sección, tendrás la oportunidad de fijar las posiciones de las articulaciones del brazo UR10 utilizando sliders. Esta sección  está diseñada para ayudarte a entender cómo las diferentes posiciones de las articulaciones afectan la configuración del robot.\n",
    "\n",
    "Instrucciones:\n",
    "\n",
    "1. Ejecuta la Siguiente Celda: Esto mostrará sliders para cada articulación del robot UR10. Debería aparecer algo como esta imagen.\n",
    "\n",
    "\n",
    "![Joint Position Setting](../images/sliders_setting_position.png)\n",
    "\n",
    "2. Mueve los Sliders para fijar la posición de las articulacines. Cada slider representa una articulación específica del UR10, lo que te permite controlar su posición de manera independiente.\n",
    "\n",
    "3. Observa los Cambios: Mientras ajustas los sliders, observa la visualización en RViz para ver cómo cambia la psoe del robot. Esta retroalimentación en tiempo real proporcionará una visión valiosa de los efectos cinemáticos de diferentes posiciones de las articulaciones en la postura y alcance general del robot.\n",
    "\n",
    "3.  Observe the Changes: Al ajustar los sliders, observa en RViz cómo cambia la pose del robot. \n",
    "\n",
    "4. Experimenta con diferentes posiciones de las articulaciones: Observa el rango de movimiento del robot y cómo alterar las posiciones de las articulaciones impacta en la posición del efector final.\n",
    "\n"
   ]
  },
  {
   "cell_type": "code",
   "execution_count": 3,
   "metadata": {},
   "outputs": [
    {
     "data": {
      "application/vnd.jupyter.widget-view+json": {
       "model_id": "4845ff21b37a41f895e72df2e295d90a",
       "version_major": 2,
       "version_minor": 0
      },
      "text/plain": [
       "VBox(children=(FloatSlider(value=0.0, description='shoulder_pan_joint', layout=Layout(width='500px'), max=6.28…"
      ]
     },
     "metadata": {},
     "output_type": "display_data"
    }
   ],
   "source": [
    "# Inicializa el controlador de sliders para la configuración de las articulaciones.\n",
    "# 'SliderJointSetter' crea una interfaz de sliders para ajustar las articulaciones del robot.\n",
    "# 'robot=ur10' especifica que estamos configurando el robot UR10.\n",
    "# 'pub_joint_states=pub' pasa el publicador ROS que maneja los estados de las articulaciones.\n",
    "\n",
    "sliderJointSetter = manipulacion_lib.ConfiguradorSlidersArticulaciones(robot=ur10, pub_estados_articulaciones=pub)"
   ]
  },
  {
   "attachments": {},
   "cell_type": "markdown",
   "metadata": {},
   "source": [
    "## Cinemática Directa\n",
    "\n",
    "En esta sección, exploraremos el concepto de Cinemática Directa en el contexto del brazo robótico UR10. La Cinemática Directa es el proceso de calcular la posición y orientación del efector final del robot (tool0) basándonos en las posiciones conocidas de las articulaciones en relación con la base del robot (base_link).\n",
    "\n",
    "Pasos:\n",
    "\n",
    "1 - Crear un Objeto de Cinemática: Utilizamos la clase Kinematics de la clase manipulacion_lib para crear un objeto de cinemática. Este objeto requiere tres parámetros: el objeto robot (una instancia de manipulacion_lib.Robot) y los nombres de base_link y end_link (en nuestro caso, tool0). Este objeto es responsable no solo de definir la cadena cinemática desde la base del robot hasta su efector final, sino también de crear los solucionadores de FK e Cinemática Inversa (IK).\n",
    "\n",
    "\n",
    "2 - Obtener Posiciones Actuales de las Articulaciones: Llamamos al método get_joint_states en el objeto robot ur10 para obtener las posiciones actuales de las articulaciones. Estos valores representan las posiciones actuales de cada articulación en el brazo robótico.\n",
    "\n",
    "3 - Calcular la Cinemática Directa: El método compute_fk del objeto kin se emplea para calcular la pose del efector final (tool0). Este método toma las posiciones de las articulaciones y calcula la pose en relación con el sistema de referencia base_link. El resultado incluye tanto la posición como la orientación en cuaterniones del efector final.\n",
    "\n",
    "4 - Mostrar la Pose del Efector Final\n",
    "\n"
   ]
  },
  {
   "cell_type": "code",
   "execution_count": 4,
   "metadata": {
    "slideshow": {
     "slide_type": ""
    },
    "tags": []
   },
   "outputs": [
    {
     "name": "stdout",
     "output_type": "stream",
     "text": [
      "Posiciones articulaciones:  [0, -1, 1, 0.5, 0, 0]\n",
      "Efector final:  position: \n",
      "  x: 0.8474954763747953\n",
      "  y: 0.2561410000610682\n",
      "  z: 0.8407439402391812\n",
      "orientation: \n",
      "  x: -0.1749410173515342\n",
      "  y: 0.17494101721101285\n",
      "  z: -0.6851245437854173\n",
      "  w: 0.6851245437495362\n"
     ]
    }
   ],
   "source": [
    "# Crea un objeto cinemática con el objeto robot y los nombres de los eslabones base y final\n",
    "kin = manipulacion_lib.Cinematica(robot=ur10, frame_base='base_link', frame_final='tool0')\n",
    "\n",
    "# Obtener los valores de las articulaciones del robot\n",
    "posiciones_articulaciones_actuales = ur10.obtener_posiciones_articulaciones()\n",
    "print(\"Posiciones articulaciones: \", posiciones_articulaciones_actuales)\n",
    "\n",
    "# Calcular la cinemática directa para los valores actuales de las articulaciones para obtener\n",
    "# la pose del efector final\n",
    "\n",
    "pose_efector_final = kin.calcular_cd(posiciones_articulaciones_actuales)\n",
    "print(\"Efector final: \", pose_efector_final)"
   ]
  },
  {
   "attachments": {},
   "cell_type": "markdown",
   "metadata": {},
   "source": [
    "Después de calcular la pose del efector final usando cinemática directa, la visualizamos en RViz usando un marcador:\n",
    "\n",
    "- **Publisher de Marcadores**: Creamos un publicador ROS para marcadores en el topic `/end_effector_marker`.\n",
    "\n",
    "- **Publicar Pose como Marcador**: La función `publicar_marcador` envía la pose del efector final (efector_final_pose) a RViz, mostrando su posición y orientación con respecto a la base del robot.\n",
    "\n",
    "- **Visualización en RViz**: El marcador en RViz representa la pose del efector final.\n",
    "\n",
    "\n"
   ]
  },
  {
   "cell_type": "code",
   "execution_count": 5,
   "metadata": {},
   "outputs": [],
   "source": [
    "from visualization_msgs.msg import MarkerArray\n",
    "\n",
    "# Crear un publisher de ROS para publicar los marcadores\n",
    "pub_marcador = rospy.Publisher('/end_effector_marker', MarkerArray, queue_size=10)\n",
    "\n",
    "# Publicar los marcadores del efector final\n",
    "# Parametros:\n",
    "# marker_pub: publisher de ROS\n",
    "# end_effector_pose: pose del efector final\n",
    "# frame_id: frame de referencia\n",
    "\n",
    "manipulacion_lib.publicar_marcador(pub_marcador=pub_marcador, pose_efector_final=pose_efector_final, frame_id='base_link')\n",
    "\n"
   ]
  },
  {
   "attachments": {},
   "cell_type": "markdown",
   "metadata": {},
   "source": [
    "## Exploración Interactiva de la Cinemática Directa\n",
    "\n",
    "Ahora, pongamos en práctica tu comprensión de la cinemática directa:\n",
    "\n",
    "1 - **Mueve los Sliders**: Ajusta los deslizadores para cambiar los valores de las articulaciones del UR10.\n",
    "\n",
    "2 - **Calcular la Pose del Efector Final**: Después de configurar los valores de las articulaciones, utiliza la función de cinemática directa para calcular la pose del efector final.\n",
    "\n",
    "3 - **Visualizar en RViz**: Publica la pose calculada como un marcador en RViz.\n"
   ]
  },
  {
   "cell_type": "code",
   "execution_count": 6,
   "metadata": {},
   "outputs": [
    {
     "data": {
      "application/vnd.jupyter.widget-view+json": {
       "model_id": "43a91a37d0114550a1dd1abfa5a6a48d",
       "version_major": 2,
       "version_minor": 0
      },
      "text/plain": [
       "VBox(children=(FloatSlider(value=0.0, description='shoulder_pan_joint', layout=Layout(width='500px'), max=6.28…"
      ]
     },
     "metadata": {},
     "output_type": "display_data"
    }
   ],
   "source": [
    "# Creates a slider to set the joint values of the robot\n",
    "configurador_sliders_articulaciones = manipulacion_lib.ConfiguradorSlidersArticulaciones(robot=ur10, pub_estados_articulaciones=pub)"
   ]
  },
  {
   "cell_type": "code",
   "execution_count": 7,
   "metadata": {},
   "outputs": [],
   "source": [
    "pose_efector_final = kin.calcular_cd(ur10.obtener_posiciones_articulaciones())\n",
    "manipulacion_lib.publicar_marcador(pub_marcador=pub_marcador, pose_efector_final=pose_efector_final, frame_id='base_link')"
   ]
  },
  {
   "attachments": {},
   "cell_type": "markdown",
   "metadata": {},
   "source": [
    "## Cinemática Inversa\n",
    "\n",
    "El objetivo de la cinemática inversa es encontrar las posiciones de las articulaciones que resultan en una posición y orientación deseadas del efector final del robot. En esta sección, exploraremos cómo usar la cinemática inversa para calcular las posiciones de las articulaciones necesarias para que el brazo robótico UR10 alcance una pose específica.\n",
    "\n",
    "Pasos:\n",
    "\n",
    "1 - **Definir la Pose Deseada**: La variable pose_deseada es una instancia de la clase Pose de geometry_msgs de ROS, que representa la posición y orientación deseadas del efector final del robot.\n",
    "\n",
    "2 - **Publicar un Marcador para Visualización**: La función publicar_marcador se llama para publicar un marcador en la pose deseada. Esto ayuda a visualizar la posición y orientación objetivo en RViz. El publicador_marcador es el publicador ROS para marcadores, y frame_id='base_link' especifica que la pose está definida en relación con el enlace base del robot.\n",
    "\n",
    "3 - **Calcular la Cinemática Inversa**: El método calcular_ik del objeto kin (que representa la cinemática del robot) se llama para calcular la cinemática inversa. Toma los estados actuales de las articulaciones del robot (ur10.obtener_estados_articulaciones()) y la pose_objetivo como entradas. El método devuelve un booleano valido que indica si se encontró una solución válida, y valores_articulaciones_deseados, que son los ángulos de las articulaciones requeridos para lograr la pose deseada.\n",
    "\n",
    "4 - **Establecer los Estados de las Articulaciones del Robot**: Si se encuentra una solución válida (if valido:), se imprimen los ángulos de las articulaciones (valores_articulaciones_objetivo). Luego se llama al método establecer_estados_articulaciones del objeto robot ur10 para aplicar estos ángulos al robot. Este método toma el publicador (el publicador ROS para estados de articulaciones) y los valores_articulaciones_objetivo como argumentos y los publica en el tema /joint_states.\n"
   ]
  },
  {
   "cell_type": "code",
   "execution_count": 8,
   "metadata": {},
   "outputs": [
    {
     "name": "stdout",
     "output_type": "stream",
     "text": [
      "Posiciones articulares deseadas:  [0.317456275160811, -1.1094320371548367, 1.5802671482029687, -0.4708356739345126, -1.2533386022730626, 2.0404211986610465e-06]\n"
     ]
    }
   ],
   "source": [
    "# Crear pose del efector final\n",
    "pose_deseada = Pose()\n",
    "pose_deseada.position.x = 0.6\n",
    "pose_deseada.position.y = 0.4\n",
    "pose_deseada.position.z = 0.6\n",
    "pose_deseada.orientation.x = 0.0\n",
    "pose_deseada.orientation.y = 0.0\n",
    "pose_deseada.orientation.z = 0.0\n",
    "pose_deseada.orientation.w = 1.0\n",
    "\n",
    "# Publicar marcador del efector final\n",
    "manipulacion_lib.publicar_marcador(pub_marcador=pub_marcador, pose_efector_final=pose_deseada, frame_id='base_link')\n",
    "\n",
    "# Calcular la cinemática inversa para la pose deseada\n",
    "# Parametros:\n",
    "# posiciones_articulaciones_actuales: posiciones articulares actuales del robot\n",
    "# pose_deseada: pose deseada del efector final\n",
    "# Retorna:\n",
    "# valida: True si la cinemática inversa es válida, False en caso contrario\n",
    "# posiciones_articulares_deseadas: posiciones articulares ci del robot para la pose deseada\n",
    "valida, posiciones_articulares_deseadas = kin.calcular_ci(posiciones_articulaciones_actuales=ur10.obtener_posiciones_articulaciones(), pose_deseada=pose_deseada)\n",
    "\n",
    "if valida:\n",
    "    # Fijar las posiciones articulares deseadas\n",
    "    print(\"Posiciones articulares deseadas: \", posiciones_articulares_deseadas)\n",
    "    ur10.fijar_posicion_articulaciones(pub_estados_articulaciones=pub, posiciones_articulaciones=posiciones_articulares_deseadas)"
   ]
  },
  {
   "attachments": {},
   "cell_type": "markdown",
   "metadata": {},
   "source": [
    "# Configuración de la Pose del Efector Final con Sliders\n",
    "\n",
    "En esta sección, usarás sliders para configurar la pose objetivo (posición y orientación) del efector final del UR10. \n",
    "\n",
    "Instrucciones:\n",
    "\n",
    "- **Ejecuta la Siguiente Celda**: Esto creará una instancia de ConfiguradorSlidersEfectorFinal de la biblioteca manipulacion_lib. Esta instancia será responsable de gestionar la posición y orientación de la pose objetivo.\n",
    "\n",
    "- **Ajusta los sliders**: Verás sliders tanto para la posición (x, y, z) como para la orientación (roll, pitch, yaw) del efector final. Ajusta estos sliderts para establecer la pose objetivo deseada del efector final.\n",
    "\n",
    "- **Calcular la Cinemática Inversa**: Después de establecer la pose objetivo, ejecuta la celda de código siguiente para calcular la cinemática inversa. Si se encuentra una solución, los estados de las articulaciones del robot se actualizarán a esta nueva configuración.\n",
    "\n",
    "- **Explora**: Prueba diferentes poses para entender cómo se adaptan las articulaciones del robot para alcanzar el objetivo.\n",
    "\n",
    "- **Manejo de Poses Objetivo Inalcanzables**: Si el solver de cinemática inversa no puede encontrar una solución para una pose objetivo desde las posiciones actuales de las articulaciones, la configuración del robot no cambiará y no verás movimiento en RViz.\n",
    "\n",
    "\n"
   ]
  },
  {
   "cell_type": "code",
   "execution_count": 12,
   "metadata": {},
   "outputs": [
    {
     "data": {
      "application/vnd.jupyter.widget-view+json": {
       "model_id": "5ec9f8daf40c428f84902b3331641a31",
       "version_major": 2,
       "version_minor": 0
      },
      "text/plain": [
       "VBox(children=(FloatSlider(value=0.0, description='x', layout=Layout(width='500px'), max=1.5, min=-1.5, step=0…"
      ]
     },
     "metadata": {},
     "output_type": "display_data"
    }
   ],
   "source": [
    "configuradorSlidersEfectorFinal = manipulacion_lib.ConfiguradorSlidersEfectorFinal(robot = ur10, pub_estados_articulaciones = pub, pub_marcador_efector_final = pub_marcador, cinematica=kin)"
   ]
  },
  {
   "cell_type": "code",
   "execution_count": 17,
   "metadata": {},
   "outputs": [
    {
     "name": "stdout",
     "output_type": "stream",
     "text": [
      "Solución de cinemática inversa encontrada!\n",
      "posiciones_articulaciones_actuales:  [-0.0031853071795859833, -0.0031853071795859833, -0.0015926535897929917, -0.0031853071795859833, -0.0031853071795859833, -0.0031853071795859833]\n",
      "Posiciones articulares deseadas:  [-5.531882020519764, 0.8923606321412948, -1.8710516102246022, 0.9786905913659801, 5.463692267133331, -6.2831847414387845]\n"
     ]
    }
   ],
   "source": [
    "valida, posiciones_articulares_deseadas = kin.calcular_ci(posiciones_articulaciones_actuales=ur10.obtener_posiciones_articulaciones(), pose_deseada=configuradorSlidersEfectorFinal.obtener_pose_sliders())\n",
    "if valida:\n",
    "    print(\"Solución de cinemática inversa encontrada!\")\n",
    "    print(\"posiciones_articulaciones_actuales: \", ur10.obtener_posiciones_articulaciones())\n",
    "    print(\"Posiciones articulares deseadas: \", posiciones_articulares_deseadas)\n",
    "    ur10.fijar_posicion_articulaciones(pub_estados_articulaciones=pub, posiciones_articulaciones=posiciones_articulares_deseadas)\n",
    "else:\n",
    "    print(\"No se encontró una solución de cinemática inversa!\")\n",
    "ur10.fijar_posicion_articulaciones(pub_estados_articulaciones=pub, posiciones_articulaciones=posiciones_articulares_deseadas)\n",
    "\n"
   ]
  }
 ],
 "metadata": {
  "kernelspec": {
   "display_name": "Python 3 (ipykernel)",
   "language": "python",
   "name": "python3"
  },
  "language_info": {
   "codemirror_mode": {
    "name": "ipython",
    "version": 3
   },
   "file_extension": ".py",
   "mimetype": "text/x-python",
   "name": "python",
   "nbconvert_exporter": "python",
   "pygments_lexer": "ipython3",
   "version": "3.8.10"
  }
 },
 "nbformat": 4,
 "nbformat_minor": 4
}
