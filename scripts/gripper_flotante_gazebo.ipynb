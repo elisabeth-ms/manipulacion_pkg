{
 "cells": [
  {
   "attachments": {},
   "cell_type": "markdown",
   "metadata": {
    "slideshow": {
     "slide_type": "slide"
    },
    "tags": []
   },
   "source": [
    "# SIMULAR GRIPPER FLOTANTE EN GAZEBO\n",
    "## Iniciando la simulacion de Gazebo\n",
    "\n",
    "Para interactuar con el gripper flotante en Gazebo, sigue estos pasos:\n",
    "\n",
    "1. Abre una Nueva Terminal: Primero, necesitas abrir una nueva ventana de terminal en tu sistema (Ctrl + Alt + T).\n",
    "\n",
    "2. Ejecuta el Comando de Lanzamiento: En la terminal recién abierta, ejecuta el siguiente comando:\n"
   ]
  },
  {
   "attachments": {},
   "cell_type": "markdown",
   "metadata": {
    "slideshow": {
     "slide_type": ""
    },
    "tags": []
   },
   "source": [
    "``` shellscript\n",
    "user@pc:~$ roslaunch manipulacion_pkg gripper_gazebo.launch tipo_gripper:=jaco \\\n",
    "            objeto:=mustard_bottle\n",
    "\n",
    "```"
   ]
  },
  {
   "attachments": {},
   "cell_type": "markdown",
   "metadata": {},
   "source": [
    "# Ejemplo: Transformacion de coordenadas para pose gripper flotante\n",
    "En este ejemplo, nos centraremos en modificar la pose de un gripper flotante en Gazebo, basándonos en su posición relativa a un objeto situado en el entorno. A través de este ejemplo, aprenderemos a aplicar transformaciones de coordenadas para ajustar la posición y orientación del gripper en función de la ubicación de un objeto específico. Para hacer esto, necesitamos ejecutar los siguientes pasos:\n",
    "\n",
    "1. **Inicializar el Nodo ROS**: Comenzamos inicializando un nodo ROS llamado 'sistemas_coordenadas_y_transformaciones'. Este nodo nos permitirá comunicarnos con otras partes del sistema ROS. La condición if not rospy.get_node_uri() asegura que solo inicializamos el nodo si aún no ha sido inicializado.\n",
    "2. **Creación de una Instancia de Simulación del Gripper Flotante**:  Se crea una instancia de SimulacionGripperFlotante de la biblioteca manipulacion_lib. Esta instancia se utiliza para fijar y obtener la pose del gripper flotante y los objetos del entorno en la simulación de Gazebo. Se especifica el nombre del gripper en Gazebo, en este caso, \"gripper\".\n",
    "3. **Obtener pose del objeto con respecto al sistema de referencia global**:  Se utiliza el método obtener_pose_objeto para obtener la pose (como un Frame) del objeto (en este caso, 'mustard_bottle') con respecto al sistema de coordenadas global (world).\n",
    "4. **Fijar pose relativa del gripper con respecto al objeto**: El gripper estará a 0.2 metros en el eje X y 0.1 metros en el eje Z del sistema de coordenadas del objeto sin un cambio en la orientacion con respecto al sistema del objeto.\n",
    "5. **Transformación de Coordenadas**: Se calcula la pose del gripper en el sistema de coordenadas global (pose_gripper_world) multiplicando la pose del objeto en el sistema global (pose_objeto_world) por la pose del gripper con respecto al objeto (pose_gripper_objeto).\n",
    "\n",
    "6. **Fijar la Pose del Gripper en Gazebo**: Finalmente, se fija la pose calculada del gripper en la simulación de Gazebo utilizando el método fijar_pose_gripper de la instancia simulacion_gripper_flotante.\n",
    "\n",
    "![Gripper_pose_relativa_objeto](../images/gripper_flotante_pose_relativa.png)\n",
    "\n"
   ]
  },
  {
   "cell_type": "code",
   "execution_count": 1,
   "metadata": {},
   "outputs": [
    {
     "name": "stderr",
     "output_type": "stream",
     "text": [
      "Unknown tag \"surface\" in /robot[@name='ur10']/link[@name='hand_6_hand_limb']\n",
      "Unknown tag \"hardwareInterface\" in /robot[@name='ur10']/transmission[@name='hand_finger_joint_0_pos_transmission']/actuator[@name='hand_finger_joint_0_effort_motor']\n",
      "Unknown tag \"hardwareInterface\" in /robot[@name='ur10']/transmission[@name='hand_finger_joint_2_pos_transmission']/actuator[@name='hand_finger_joint_2_effort_motor']\n",
      "Unknown tag \"hardwareInterface\" in /robot[@name='ur10']/transmission[@name='hand_finger_joint_4_pos_transmission']/actuator[@name='hand_finger_joint_4_effort_motor']\n"
     ]
    },
    {
     "name": "stdout",
     "output_type": "stream",
     "text": [
      "Posiciones actuales de las articulaciones: [-4.3987216162832965e-06, -0.9965492781737453, 0.0010793689922001803, 0.004630270861260222, -0.0009080653319530896, -0.0011083932027764476]\n",
      "header: \n",
      "  seq: 0\n",
      "  stamp: \n",
      "    secs: 12\n",
      "    nsecs: 278000000\n",
      "  frame_id: ''\n",
      "joint_names: \n",
      "  - shoulder_pan_joint\n",
      "  - shoulder_lift_joint\n",
      "  - elbow_joint\n",
      "  - wrist_1_joint\n",
      "  - wrist_2_joint\n",
      "  - wrist_3_joint\n",
      "points: \n",
      "  - \n",
      "    positions: [0.0, -0.5, 0.5, -0.5, 0.0, 0.5]\n",
      "    velocities: []\n",
      "    accelerations: []\n",
      "    effort: []\n",
      "    time_from_start: \n",
      "      secs: 1\n",
      "      nsecs:         0\n",
      "  - \n",
      "    positions: [0.0, -1.0, 1.0, -1.0, 0.0, 1.0]\n",
      "    velocities: []\n",
      "    accelerations: []\n",
      "    effort: []\n",
      "    time_from_start: \n",
      "      secs: 3\n",
      "      nsecs:         0\n",
      "  - \n",
      "    positions: [0.0, -0.5, 0.5, -0.5, 0.0, 0.5]\n",
      "    velocities: []\n",
      "    accelerations: []\n",
      "    effort: []\n",
      "    time_from_start: \n",
      "      secs: 5\n",
      "      nsecs:         0\n"
     ]
    }
   ],
   "source": [
    "import manipulacion_lib # Importa la biblioteca para manipulación de objetos y grippers en simulación\n",
    "import rospy # Importa rospy, necesario para la comunicación con el sistema ROS\n",
    "import PyKDL # Importa PyKDL para las transformaciones entre sistemas de referencia\n",
    "\n",
    "# Inicializar el nodo de ROS si aún no se ha inicializado\n",
    "if not rospy.get_node_uri():\n",
    "    rospy.init_node('gripper_flotante_gazebo', anonymous=True, log_level=rospy.WARN)\n",
    "\n",
    "# Creación de una instancia para controlar un gripper flotante en Gazebo\n",
    "simulacion_gripper_flotante = manipulacion_lib.SimulacionGripperFlotante(nombre_gripper_gazebo=\"gripper\")\n",
    "# Esta instancia permite interactuar con un gripper en la simulación de Gazebo, especificando su nombre\n",
    "# Independientemente del gripper asignado para la práctica, se utiliza el nombre \"gripper\" para referenciarlo\n",
    "# en la simulación de Gazebo.\n",
    "\n",
    "\n",
    "# Obtener la pose (posición y orientación) de un objeto específico en el Gazebo\n",
    "# Se obtiene la pose del objeto 'mustard_bottle' con respecto al sistema de referencia global (world)\n",
    "pose_objeto_world = simulacion_gripper_flotante.obtener_pose_objeto(nombre_objeto_gazebo='driller_small')\n",
    "\n",
    "print(\"Pose objeto con respecto a world\")\n",
    "print(pose_objeto_world)\n",
    "\n",
    "# Fijamos una pose relativa del gripper con respecto al objeto\n",
    "# Pose del gripper con respecto al objeto, especificando una traslación de 0.2m en X y 0.1m en Z\n",
    "pose_gripper_objeto = PyKDL.Frame(PyKDL.Rotation.Quaternion(1.0, 0, 0.0, 0.0), PyKDL.Vector(0.2, 0, 0.1))\n",
    "\n",
    "print(\"Pose gripper con respecto a objeto\")\n",
    "print(pose_gripper_objeto)\n",
    "\n",
    "# Calcular la pose del gripper en el sistema de referencia global a partir de su pose relativa al objeto\n",
    "# Se realiza una transformación de coordenadas para obtener la pose del gripper en el sistema global\n",
    "pose_gripper_world = pose_objeto_world * pose_gripper_objeto\n",
    "print(\"Pose gripper con respecto a world: \")\n",
    "print( pose_gripper_world)\n",
    "# Fijar la pose del gripper en la simulación de Gazebo\n",
    "simulacion_gripper_flotante.fijar_pose_gripper(pose_gripper_world=pose_gripper_world)\n",
    "# Actualiza la posición y orientación del gripper en Gazebo según la pose calculada"
   ]
  },
  {
   "attachments": {},
   "cell_type": "markdown",
   "metadata": {},
   "source": [
    "# Ejemplo 2 : Modificación de la Pose del Gripper Flotante en Gazebo\n",
    "\n",
    "En este ejercicio, comenzaremos fijando una pose aleatoria para el gripper flotante en la simulación de Gazebo. A continuación, calcularemos una nueva pose que esté desplazada en el eje X local del gripper por un offset determinado. Esta nueva pose también se fijará en la simulación para observar el cambio.\n",
    "\n",
    "Pasos del Ejemplo:\n",
    "\n",
    "1. **Fijar una Pose Aleatoria del Gripper:** Inicialmente, colocaremos el gripper flotante en una pose aleatoria dentro de la simulación de Gazebo.\n",
    "2. **Calcular la Nueva Pose**: Basándonos en la pose actual del gripper, calcularemos una nueva pose desplazada un offset en el eje X local del gripper.  La imagen muestra los ejes locales del gripper, con el eje X representado en rojo. Este visual es crucial para comprender la dirección del desplazamiento aplicado. \n",
    "\n",
    "3. **Fijar la nueva pose del gripper en Gazebo**: La pose recalculada será fijada en la simulación para observar el cambio de la pose del gripper.\n",
    "![EjesLocalesJacoHand](../images/ejes_locales_jaco_hand.png)\n",
    "\n",
    "\n",
    "## ¡IMPORTANTE!:\n",
    " Para crear la impresión de que el gripper se está moviendo a lo largo de una línea recta entre las dos poses, se podría realizar una interpolación entre ambas poses. Este proceso implicaría ajustar gradualmente la posición del gripper a lo largo del tiempo, dando lugar a un movimiento suave y continuo. Se anima a los estudiantes a implementar esta interpolación por su cuenta, aplicando los conceptos aprendidos sobre transformaciones de coordenadas y manipulación de poses en un entorno de simulación.\n"
   ]
  },
  {
   "cell_type": "code",
   "execution_count": 2,
   "metadata": {},
   "outputs": [
    {
     "data": {
      "text/plain": [
       "True"
      ]
     },
     "execution_count": 2,
     "metadata": {},
     "output_type": "execute_result"
    }
   ],
   "source": [
    "import manipulacion_lib\n",
    "import rospy\n",
    "import numpy as np\n",
    "\n",
    "\n",
    "# Inicializar el nodo de ROS si aún no se ha inicializado\n",
    "if not rospy.get_node_uri():\n",
    "    rospy.init_node('gripper_flotante_gazebo', anonymous=True, log_level=rospy.WARN)\n",
    "\n",
    "# Creación de una instancia para controlar el gripper flotante en la simulación de Gazebo\n",
    "simulacion_gripper_flotante = manipulacion_lib.SimulacionGripperFlotante(nombre_gripper_gazebo=\"gripper\")\n",
    "# Generación de una pose aleatoria para el gripper\n",
    "# Se generan tres números aleatorios uniformes para la posición en el espacio, limitados entre -1 y 1 para x e y,\n",
    "# y entre 0.5 y 1 para z.\n",
    "posicion_gripper_world = [np.random.uniform(-1, 1), np.random.uniform(-1, 1), np.random.uniform(0.5, 1)]\n",
    "# Se generan cuatro números aleatorios para la orientación (como cuaternión), cada uno entre -1 y 1.\n",
    "orientacion_gripper_world = [np.random.uniform(-1, 1), np.random.uniform(-1, 1), np.random.uniform(-1, 1), np.random.uniform(-1, 1)]\n",
    "# Normalización del cuaternión para garantizar que representa una rotación válida.\n",
    "orientacion_gripper_world = orientacion_gripper_world / np.linalg.norm(orientacion_gripper_world)\n",
    "# Construcción de la pose del gripper con los valores aleatorios de posición y orientación.\n",
    "pose_gripper_world = PyKDL.Frame(PyKDL.Rotation.Quaternion(orientacion_gripper_world[0], orientacion_gripper_world[1],\n",
    "                                                           orientacion_gripper_world[2], orientacion_gripper_world[3]),\n",
    "                                 PyKDL.Vector(posicion_gripper_world[0], posicion_gripper_world[1], posicion_gripper_world[2]))\n",
    "\n",
    "# Fijar la pose aleatoria del gripper en la simulación de Gazebo.\n",
    "simulacion_gripper_flotante.fijar_pose_gripper(pose_gripper_world=pose_gripper_world)\n",
    "\n"
   ]
  },
  {
   "cell_type": "code",
   "execution_count": 3,
   "metadata": {},
   "outputs": [
    {
     "data": {
      "text/plain": [
       "True"
      ]
     },
     "execution_count": 3,
     "metadata": {},
     "output_type": "execute_result"
    }
   ],
   "source": [
    "offset = 0.2 # Definimos un offset de 0.2 metros\n",
    "\n",
    "# Creamos una nueva pose de tipo Frame de PyKDL que no altera la rotación (identidad)\n",
    "# y desplaza el gripper 0.2 metros a lo largo del eje X local.\n",
    "pose_nueva_gripper = PyKDL.Frame(PyKDL.Rotation(), PyKDL.Vector(offset, 0, 0 ))\n",
    "\n",
    "# Multiplicamos la pose actual del gripper en el mundo por la transformación que acabamos\n",
    "# de crear para obtener la nueva pose en el sistema de coordenadas del mundo.\n",
    "pose_nueva_world = pose_gripper_world*pose_nueva_gripper\n",
    "\n",
    "# Fijamos la nueva pose del gripper en la simulación de Gazebo.\n",
    "simulacion_gripper_flotante.fijar_pose_gripper(pose_gripper_world=pose_nueva_world)\n"
   ]
  },
  {
   "attachments": {},
   "cell_type": "markdown",
   "metadata": {},
   "source": [
    "# Detectar colisiones entre el gripper y el entorno"
   ]
  },
  {
   "cell_type": "code",
   "execution_count": 4,
   "metadata": {},
   "outputs": [
    {
     "name": "stdout",
     "output_type": "stream",
     "text": [
      "/manipulacion_ws/src/manipulacion_pkg/urdf/schunk.urdf\n",
      "Colisiona en la pose actual: False\n"
     ]
    }
   ],
   "source": [
    "from manipulacion_lib import Obstaculo, DetectorColisionesGripperFlotante\n",
    "obstaculo_rojo = Obstaculo('cubo', [0.75,0,0,1,0,0,0], [0.3,1,0.6], 'obstaculo')\n",
    "suelo = Obstaculo('cubo', [0,0,0,1,0,0,0], [4,4,0.1], 'suelo')\n",
    "obstaculos = [obstaculo_rojo, suelo]\n",
    "\n",
    "detector_colisiones = DetectorColisionesGripperFlotante('schunk', obstaculos)\n",
    "# Obtener la matriz de rotación del frame\n",
    "rotation = pose_gripper_world.M\n",
    "\n",
    "# Convertir la matriz de rotación a cuaternión\n",
    "qx, qy, qz, qw = rotation.GetQuaternion()\n",
    "pose_gripper = [pose_gripper_world.p.x(), pose_gripper_world.p.y(), pose_gripper_world.p.z(),\n",
    "                qx, qy, qz, qw]\n",
    "print(\"Colisiona en la pose actual:\", detector_colisiones.hay_colision(pose_gripper))"
   ]
  },
  {
   "attachments": {},
   "cell_type": "markdown",
   "metadata": {},
   "source": [
    "\n",
    "#  MOVER ARTICULACIONES DEL GRIPPER\n",
    "1. **Configuración Inicial del Gripper**: Utilizamos la función `configurar_gripper()` para cargar configuraciones específicas del gripper, incluyendo nombres de articulaciones y posiciones iniciales, desde un archivo YAML. \n",
    "2. **Abrir gripper**:  `abrir_gripper()` para abrir el gripper en Gazebo.\n",
    "3. **Obtener el tipo de gripper**: `get_tipo_gripper()` para saber con que gripper estamos trabajando.\n",
    "4. **Configuración de Posiciones**: Basado en el tipo, asignamos posiciones específicas a las articulaciones.\n",
    "5. **Aplicar Configuración**: Con `set_posicion_articulaciones()`, ajustamos las articulaciones del gripper. Cada tipo de gripper tiene un número distinto de articulaciones, lo que requiere una configuración específica para su correcto funcionamiento.\n",
    "\n",
    "## ¡IMPORTANTE!\n",
    "Como parte de vuestro trabajo con grippers en simulaciones, es crucial utilizar las posiciones de las articulaciones (dofs) específicas para cada pose de agarre que hayáis obtenido mediante el uso de GraspIt! y guardado previamente en un archivo. \n"
   ]
  },
  {
   "cell_type": "code",
   "execution_count": 6,
   "metadata": {},
   "outputs": [
    {
     "name": "stdout",
     "output_type": "stream",
     "text": [
      "Gripper posicion articulaciones:  [0.0, -0.5, -0.5, -0.5, -0.5, -0.5, -0.5]\n",
      "Gripper posicion articulaciones:  [0, 0, 0, 0, 0, 0, 0]\n"
     ]
    }
   ],
   "source": [
    "# Configurar el gripper basado en el archivo YAML específico para su tipo.\n",
    "# Esto incluye cargar las configuraciones iniciales como nombres de articulaciones y posiciones predeterminadas.\n",
    "simulacion_gripper_flotante.configurar_gripper()\n",
    "\n",
    "# Abrir completamente el gripper antes de intentar cualquier operación de agarre.\n",
    "# Es una práctica común asegurarse de que el gripper no esté restringido o en una posición que podría interferir con el objeto a agarrar.\n",
    "simulacion_gripper_flotante.abrir_gripper()\n",
    "\n",
    "# Pequeña pausa para asegurar que la acción de abrir se ha completado.\n",
    "rospy.sleep(1)\n",
    "\n",
    "# Obtener el tipo de gripper actual para aplicar la configuración de posiciones de articulaciones correcta.\n",
    "tipo_gripper = simulacion_gripper_flotante.get_tipo_gripper()\n",
    "\n",
    "# Basado en el tipo de gripper, se definen las posiciones específicas de las articulaciones.\n",
    "# Estas posiciones deben ser determinadas experimentalmente o calculadas para lograr el agarre deseado.\n",
    "if tipo_gripper == 'jaco':\n",
    "  posicion_articulaciones = [-0.6,-0.6,-0.6]  # Posiciones para el gripper Jaco.\n",
    "elif tipo_gripper == 'schunk':\n",
    "  posicion_articulaciones = [0, 0, 0, 0, 0, 0, 0]  # Posiciones para el gripper Schunk.\n",
    "elif tipo_gripper == 'robotiq':\n",
    "  posicion_articulaciones = [0.4, 0.4, 0.4, 0, 0.4, 0.4, 0.4, 0, 0.4, 0.4, 0.4]  # Posiciones para el gripper Robotiq.\n",
    "\n",
    "# Aplicar las posiciones definidas a las articulaciones del gripper.\n",
    "# Este paso es crucial para controlar el estado del gripper y realizar agarres efectivos en la simulación.\n",
    "simulacion_gripper_flotante.set_posicion_articulaciones(posicion_articulaciones)\n"
   ]
  },
  {
   "cell_type": "code",
   "execution_count": null,
   "metadata": {},
   "outputs": [],
   "source": []
  }
 ],
 "metadata": {
  "kernelspec": {
   "display_name": "Python 3 (ipykernel)",
   "language": "python",
   "name": "python3"
  },
  "language_info": {
   "codemirror_mode": {
    "name": "ipython",
    "version": 3
   },
   "file_extension": ".py",
   "mimetype": "text/x-python",
   "name": "python",
   "nbconvert_exporter": "python",
   "pygments_lexer": "ipython3",
   "version": "3.8.10"
  }
 },
 "nbformat": 4,
 "nbformat_minor": 4
}
