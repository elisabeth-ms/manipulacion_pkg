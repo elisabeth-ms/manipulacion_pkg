{
 "cells": [
  {
   "attachments": {},
   "cell_type": "markdown",
   "metadata": {
    "editable": false,
    "rendered": true,
    "run_control": {
     "frozen": true
    },
    "slideshow": {
     "slide_type": "slide"
    },
    "tags": []
   },
   "source": [
    "# SISTEMAS DE COORDENADAS Y TRANSFORMACIONES\n",
    "## Conceptos Básicos\n",
    "\n",
    "* Pose: Combinación de posición y orientación en el espacio tridimensional, definida siempre con respecto a un sistema de referencia específico.\n",
    "* Sistema de Referencia: Sistema que define el origen y la orientación del espacio para las poses. Puede representar el entorno de trabajo global o ser local (como la base de un robot, un objeto).\n",
    "\n",
    "Para definir las poses de los objetos y las transformaciones entre los distintos sistemas de coordenadas utilizaremos la libreria `PyKDL`.\n",
    "\n",
    "## Definición y Uso de Frame en PyKDL\n",
    "\n",
    "Un Frame en PyKDL es una matriz 4x4 que representa la pose de un objeto o sistema de coordenadas con respecto a otro sistema de coordenadas. Contiene dos componentes principales:\n",
    "    \n",
    "* Rotación (Rotation): Representa la orientación del objeto o sistema de coordenadas con respecto al sistema de referencia.\n",
    "    \n",
    "* Posición (Vector): Define la posición del origen del objeto o sistema de coordenadas dentro del sistema de referencia.\n"
   ]
  },
  {
   "cell_type": "code",
   "execution_count": 32,
   "metadata": {},
   "outputs": [
    {
     "name": "stdout",
     "output_type": "stream",
     "text": [
      "Frame del objeto con respecto al sistema de coordenadas global world\n",
      "[[           1,           0,           0;\n",
      "            0,           1,           0;\n",
      "            0,           0,           1]\n",
      "[           0,           1,           2]]\n"
     ]
    }
   ],
   "source": [
    "import PyKDL\n",
    "\n",
    "# Creación de un Frame: Por ejemplo, para definir la posicion y orientacion de un objeto con respecto a \n",
    "# un sistema de coordenadas global, en nuestro caso el sistema global es world.\n",
    "\n",
    "# Definir la Rotación: Se puede definir utilizando varios métodos, uno común es el quaternion (qx,qy,qz,qw).\n",
    "qx = 0.0\n",
    "qy = 0.0\n",
    "qz = 0.0\n",
    "qw = 1.0\n",
    "rotacion = PyKDL.Rotation.Quaternion(qx, qy, qz, qw)\n",
    "\n",
    "# Definir la Posición: Se define como un vector en el espacio 3D.\n",
    "x = 0.0\n",
    "y = 1.0\n",
    "z = 2.0\n",
    "posicion = PyKDL.Vector(x, y, z)\n",
    "\n",
    "# Crear el Frame del objeto con respecto al sistema de coordenadas global world\n",
    "# Combina la rotación y la posición en un Frame. \n",
    "\n",
    "frame_objeto_world = PyKDL.Frame(rotacion, posicion)\n",
    "\n",
    "print(\"Frame del objeto con respecto al sistema de coordenadas global world\")\n",
    "print(frame_objeto_world)\n"
   ]
  },
  {
   "attachments": {},
   "cell_type": "markdown",
   "metadata": {},
   "source": [
    "# Transformación entre sistemas de coordenadas:\n",
    "\n",
    "Si conocemos la pose de un sistema de coordenadas B con respecto a un sistema de referencia A (Frame F_B_A), y conocemos pose de C con respecto al frame B (F_C_B), podriamos calcular la pose del frame C con respecto al frame multiplicando ambos frames:\n",
    "\n",
    "F_C_A = F_B_A * F_C_B \n",
    "\n",
    "## EJEMPLO\n",
    "\n",
    "Supongamos que en tu entorno de simulación tienes un robot y un objeto. Cada uno está definido en su propio sistema de coordenadas. Quieres que el robot manipule el objeto, por lo que necesitas calcular la pose del objeto con respecto al robot.\n",
    "*Datos Conocidos*\n",
    "\n",
    "* Pose del objeto en el sistema global (F_O_W): La pose del objeto con respecto al sistema de coordenadas del mundo (World).\n",
    "* Pose del robot en el sistema global (F_R_W): La pose del robot con respecto al sistema de coordenadas del mundo.\n",
    "\n",
    "*Objetivo*\n",
    "\n",
    "Calcular la pose del objeto con respecto al robot (F_O_R)."
   ]
  },
  {
   "cell_type": "code",
   "execution_count": 33,
   "metadata": {},
   "outputs": [
    {
     "name": "stdout",
     "output_type": "stream",
     "text": [
      "Pose del objeto con respecto al robot\n",
      "[[          -1,           0,           0;\n",
      "            0,          -1,           0;\n",
      "            0,           0,           1]\n",
      "[          -2,           1,        -0.3]]\n"
     ]
    }
   ],
   "source": [
    "\n",
    "# Pose del objeto con respecto al mundo.\n",
    "\n",
    "posicion_objeto_world = PyKDL.Vector(2, 2, 0.5) # Posición del objeto con respecto al mundo\n",
    "rotacion_objeto_world = PyKDL.Rotation.Quaternion(1, 0, 0, 0) # Orientaction del objeto con respecto al mundo\n",
    "pose_objeto_world = PyKDL.Frame(rotacion_objeto_world, posicion_objeto_world)\n",
    "\n",
    "# Pose del robot con respecto al mundo.\n",
    "\n",
    "posicion_robot_world = PyKDL.Vector(0, 1, 0.2) # Posicion del robot con respecto al mundo\n",
    "rotacion_robot_world = PyKDL.Rotation.Quaternion(0, 1, 0, 0) #Orientación del robot con respecto al mundo\n",
    "pose_robot_world = PyKDL.Frame(rotacion_robot_world, posicion_robot_world)\n",
    "\n",
    "# Calcular la Inversa de la Pose del Robot:\n",
    "# Esto nos dará la transformación del mundo con respecto al robot.\n",
    "\n",
    "pose_world_robot = pose_robot_world.Inverse()\n",
    "\n",
    "# Calcular la Pose del Objeto con Respecto al Robot: \n",
    "# Multiplicando la inversa de la pose del robot por la pose del objeto en el mundo.\n",
    "\n",
    "pose_objeto_robot = pose_world_robot * pose_objeto_world\n",
    "\n",
    "print(\"Pose del objeto con respecto al robot\")\n",
    "print(pose_objeto_robot)"
   ]
  }
 ],
 "metadata": {
  "kernelspec": {
   "display_name": "Python 3 (ipykernel)",
   "language": "python",
   "name": "python3"
  },
  "language_info": {
   "codemirror_mode": {
    "name": "ipython",
    "version": 3
   },
   "file_extension": ".py",
   "mimetype": "text/x-python",
   "name": "python",
   "nbconvert_exporter": "python",
   "pygments_lexer": "ipython3",
   "version": "3.8.10"
  }
 },
 "nbformat": 4,
 "nbformat_minor": 4
}
